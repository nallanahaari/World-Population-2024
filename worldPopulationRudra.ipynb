{
  "cells": [
    {
      "cell_type": "markdown",
      "metadata": {
        "id": "wIzw1CPiGLvd"
      },
      "source": [
        "##pre-processing"
      ]
    },
    {
      "cell_type": "code",
      "execution_count": 1,
      "metadata": {
        "id": "wZfEZ6DApCZq"
      },
      "outputs": [],
      "source": [
        "import pandas as pd\n",
        "import numpy as np\n",
        "import seaborn as sns\n",
        "import matplotlib.pyplot as plt\n",
        "import plotly.express as px"
      ]
    },
    {
      "cell_type": "code",
      "execution_count": 2,
      "metadata": {
        "colab": {
          "base_uri": "https://localhost:8080/",
          "height": 206
        },
        "id": "NMorNoOapa2s",
        "outputId": "5d6a4e09-c213-4f7b-fb99-f358d2fab066"
      },
      "outputs": [
        {
          "data": {
            "text/html": [
              "<div>\n",
              "<style scoped>\n",
              "    .dataframe tbody tr th:only-of-type {\n",
              "        vertical-align: middle;\n",
              "    }\n",
              "\n",
              "    .dataframe tbody tr th {\n",
              "        vertical-align: top;\n",
              "    }\n",
              "\n",
              "    .dataframe thead th {\n",
              "        text-align: right;\n",
              "    }\n",
              "</style>\n",
              "<table border=\"1\" class=\"dataframe\">\n",
              "  <thead>\n",
              "    <tr style=\"text-align: right;\">\n",
              "      <th></th>\n",
              "      <th>Country</th>\n",
              "      <th>Population 2024</th>\n",
              "      <th>Population 2023</th>\n",
              "      <th>Area (km2)</th>\n",
              "      <th>Density (/km2)</th>\n",
              "      <th>Growth Rate</th>\n",
              "      <th>World %</th>\n",
              "      <th>World Rank</th>\n",
              "    </tr>\n",
              "  </thead>\n",
              "  <tbody>\n",
              "    <tr>\n",
              "      <th>0</th>\n",
              "      <td>India</td>\n",
              "      <td>1441719852</td>\n",
              "      <td>1428627663</td>\n",
              "      <td>3M</td>\n",
              "      <td>485.0</td>\n",
              "      <td>0.0092</td>\n",
              "      <td>0.1801</td>\n",
              "      <td>1</td>\n",
              "    </tr>\n",
              "    <tr>\n",
              "      <th>1</th>\n",
              "      <td>China</td>\n",
              "      <td>1425178782</td>\n",
              "      <td>1425671352</td>\n",
              "      <td>9.4M</td>\n",
              "      <td>151.0</td>\n",
              "      <td>-0.0003</td>\n",
              "      <td>0.1780</td>\n",
              "      <td>2</td>\n",
              "    </tr>\n",
              "    <tr>\n",
              "      <th>2</th>\n",
              "      <td>United States</td>\n",
              "      <td>341814420</td>\n",
              "      <td>339996563</td>\n",
              "      <td>9.1M</td>\n",
              "      <td>37.0</td>\n",
              "      <td>0.0053</td>\n",
              "      <td>0.0427</td>\n",
              "      <td>3</td>\n",
              "    </tr>\n",
              "    <tr>\n",
              "      <th>3</th>\n",
              "      <td>Indonesia</td>\n",
              "      <td>279798049</td>\n",
              "      <td>277534122</td>\n",
              "      <td>1.9M</td>\n",
              "      <td>149.0</td>\n",
              "      <td>0.0082</td>\n",
              "      <td>0.0350</td>\n",
              "      <td>4</td>\n",
              "    </tr>\n",
              "    <tr>\n",
              "      <th>4</th>\n",
              "      <td>Pakistan</td>\n",
              "      <td>245209815</td>\n",
              "      <td>240485658</td>\n",
              "      <td>770.9K</td>\n",
              "      <td>318.0</td>\n",
              "      <td>0.0196</td>\n",
              "      <td>0.0306</td>\n",
              "      <td>5</td>\n",
              "    </tr>\n",
              "  </tbody>\n",
              "</table>\n",
              "</div>"
            ],
            "text/plain": [
              "         Country  Population 2024  Population 2023 Area (km2)  Density (/km2)  \\\n",
              "0          India       1441719852       1428627663         3M           485.0   \n",
              "1          China       1425178782       1425671352       9.4M           151.0   \n",
              "2  United States        341814420        339996563       9.1M            37.0   \n",
              "3      Indonesia        279798049        277534122       1.9M           149.0   \n",
              "4       Pakistan        245209815        240485658     770.9K           318.0   \n",
              "\n",
              "   Growth Rate  World %  World Rank  \n",
              "0       0.0092   0.1801           1  \n",
              "1      -0.0003   0.1780           2  \n",
              "2       0.0053   0.0427           3  \n",
              "3       0.0082   0.0350           4  \n",
              "4       0.0196   0.0306           5  "
            ]
          },
          "execution_count": 2,
          "metadata": {},
          "output_type": "execute_result"
        }
      ],
      "source": [
        "df = pd.read_csv('World Population by country 2024.csv')\n",
        "df.head()"
      ]
    },
    {
      "cell_type": "code",
      "execution_count": 3,
      "metadata": {
        "colab": {
          "base_uri": "https://localhost:8080/"
        },
        "id": "0v7zwIMGpiIi",
        "outputId": "14735fc9-90ef-47c2-bc69-a41221c92430"
      },
      "outputs": [
        {
          "name": "stdout",
          "output_type": "stream",
          "text": [
            "<class 'pandas.core.frame.DataFrame'>\n",
            "RangeIndex: 234 entries, 0 to 233\n",
            "Data columns (total 8 columns):\n",
            " #   Column           Non-Null Count  Dtype  \n",
            "---  ------           --------------  -----  \n",
            " 0   Country          234 non-null    object \n",
            " 1   Population 2024  234 non-null    int64  \n",
            " 2   Population 2023  234 non-null    int64  \n",
            " 3   Area (km2)       234 non-null    object \n",
            " 4   Density (/km2)   234 non-null    float64\n",
            " 5   Growth Rate      234 non-null    float64\n",
            " 6   World %          228 non-null    float64\n",
            " 7   World Rank       234 non-null    int64  \n",
            "dtypes: float64(3), int64(3), object(2)\n",
            "memory usage: 14.8+ KB\n"
          ]
        }
      ],
      "source": [
        "df.info()"
      ]
    },
    {
      "cell_type": "code",
      "execution_count": 4,
      "metadata": {
        "colab": {
          "base_uri": "https://localhost:8080/",
          "height": 206
        },
        "id": "9BCm0OHbpl5r",
        "outputId": "5c86879c-0f36-4ed1-b614-432b60c0653e"
      },
      "outputs": [
        {
          "data": {
            "text/html": [
              "<div>\n",
              "<style scoped>\n",
              "    .dataframe tbody tr th:only-of-type {\n",
              "        vertical-align: middle;\n",
              "    }\n",
              "\n",
              "    .dataframe tbody tr th {\n",
              "        vertical-align: top;\n",
              "    }\n",
              "\n",
              "    .dataframe thead th {\n",
              "        text-align: right;\n",
              "    }\n",
              "</style>\n",
              "<table border=\"1\" class=\"dataframe\">\n",
              "  <thead>\n",
              "    <tr style=\"text-align: right;\">\n",
              "      <th></th>\n",
              "      <th>Country</th>\n",
              "      <th>Population 2024</th>\n",
              "      <th>Population 2023</th>\n",
              "      <th>Area (km2)</th>\n",
              "      <th>Density (/km2)</th>\n",
              "      <th>Growth Rate</th>\n",
              "      <th>World %</th>\n",
              "      <th>World Rank</th>\n",
              "    </tr>\n",
              "  </thead>\n",
              "  <tbody>\n",
              "    <tr>\n",
              "      <th>0</th>\n",
              "      <td>India</td>\n",
              "      <td>1441719852</td>\n",
              "      <td>1428627663</td>\n",
              "      <td>3000000.0</td>\n",
              "      <td>485.0</td>\n",
              "      <td>0.0092</td>\n",
              "      <td>0.1801</td>\n",
              "      <td>1</td>\n",
              "    </tr>\n",
              "    <tr>\n",
              "      <th>1</th>\n",
              "      <td>China</td>\n",
              "      <td>1425178782</td>\n",
              "      <td>1425671352</td>\n",
              "      <td>9400000.0</td>\n",
              "      <td>151.0</td>\n",
              "      <td>-0.0003</td>\n",
              "      <td>0.1780</td>\n",
              "      <td>2</td>\n",
              "    </tr>\n",
              "    <tr>\n",
              "      <th>2</th>\n",
              "      <td>United States</td>\n",
              "      <td>341814420</td>\n",
              "      <td>339996563</td>\n",
              "      <td>9100000.0</td>\n",
              "      <td>37.0</td>\n",
              "      <td>0.0053</td>\n",
              "      <td>0.0427</td>\n",
              "      <td>3</td>\n",
              "    </tr>\n",
              "    <tr>\n",
              "      <th>3</th>\n",
              "      <td>Indonesia</td>\n",
              "      <td>279798049</td>\n",
              "      <td>277534122</td>\n",
              "      <td>1900000.0</td>\n",
              "      <td>149.0</td>\n",
              "      <td>0.0082</td>\n",
              "      <td>0.0350</td>\n",
              "      <td>4</td>\n",
              "    </tr>\n",
              "    <tr>\n",
              "      <th>4</th>\n",
              "      <td>Pakistan</td>\n",
              "      <td>245209815</td>\n",
              "      <td>240485658</td>\n",
              "      <td>770900.0</td>\n",
              "      <td>318.0</td>\n",
              "      <td>0.0196</td>\n",
              "      <td>0.0306</td>\n",
              "      <td>5</td>\n",
              "    </tr>\n",
              "  </tbody>\n",
              "</table>\n",
              "</div>"
            ],
            "text/plain": [
              "         Country  Population 2024  Population 2023  Area (km2)  \\\n",
              "0          India       1441719852       1428627663   3000000.0   \n",
              "1          China       1425178782       1425671352   9400000.0   \n",
              "2  United States        341814420        339996563   9100000.0   \n",
              "3      Indonesia        279798049        277534122   1900000.0   \n",
              "4       Pakistan        245209815        240485658    770900.0   \n",
              "\n",
              "   Density (/km2)  Growth Rate  World %  World Rank  \n",
              "0           485.0       0.0092   0.1801           1  \n",
              "1           151.0      -0.0003   0.1780           2  \n",
              "2            37.0       0.0053   0.0427           3  \n",
              "3           149.0       0.0082   0.0350           4  \n",
              "4           318.0       0.0196   0.0306           5  "
            ]
          },
          "execution_count": 4,
          "metadata": {},
          "output_type": "execute_result"
        }
      ],
      "source": [
        "##converting area from object to float\n",
        "def convarea(area):\n",
        "  area = area.strip().replace('<','').strip()\n",
        "  #removing '<' characters\n",
        "  if 'M' in area:\n",
        "    area = float(area.replace('M',''))*1000000\n",
        "  elif 'K' in area:\n",
        "    area = float(area.replace('K',''))*1000\n",
        "  else:\n",
        "    area = float(area)\n",
        "  return area\n",
        "\n",
        "df['Area (km2)'] = df['Area (km2)'].apply(convarea)\n",
        "df.head()"
      ]
    },
    {
      "cell_type": "code",
      "execution_count": 5,
      "metadata": {
        "colab": {
          "base_uri": "https://localhost:8080/"
        },
        "id": "7vQ7ShPuteO-",
        "outputId": "7dbf479c-7497-4a85-982d-848379771b89"
      },
      "outputs": [
        {
          "data": {
            "text/plain": [
              "Country            0\n",
              "Population 2024    0\n",
              "Population 2023    0\n",
              "Area (km2)         0\n",
              "Density (/km2)     0\n",
              "Growth Rate        0\n",
              "World %            0\n",
              "World Rank         0\n",
              "dtype: int64"
            ]
          },
          "execution_count": 5,
          "metadata": {},
          "output_type": "execute_result"
        }
      ],
      "source": [
        "df.fillna(0, inplace = True)\n",
        "df.isnull().sum()"
      ]
    },
    {
      "cell_type": "markdown",
      "metadata": {
        "id": "61zXxPYb0H_T"
      },
      "source": [
        "##visualizations"
      ]
    },
    {
      "cell_type": "code",
      "execution_count": 6,
      "metadata": {
        "colab": {
          "base_uri": "https://localhost:8080/",
          "height": 542
        },
        "id": "X1-oz5lk_Tzm",
        "outputId": "3eb4bc82-97b5-458b-d1d3-038bcf871e87"
      },
      "outputs": [
        {
          "data": {
            "application/vnd.plotly.v1+json": {
              "config": {
                "plotlyServerURL": "https://plot.ly"
              },
              "data": [
                {
                  "alignmentgroup": "True",
                  "hovertemplate": "Country=%{x}<br>Population 2024=%{y}<br>Growth Rate=%{marker.color}<extra></extra>",
                  "legendgroup": "",
                  "marker": {
                    "color": [
                      0.0092,
                      -0.0003,
                      0.0053,
                      0.0082,
                      0.0196,
                      0.0239,
                      0.0056,
                      0.0101,
                      -0.0034,
                      0.0252
                    ],
                    "coloraxis": "coloraxis",
                    "pattern": {
                      "shape": ""
                    }
                  },
                  "name": "",
                  "offsetgroup": "",
                  "orientation": "v",
                  "showlegend": false,
                  "textposition": "auto",
                  "type": "bar",
                  "x": [
                    "India",
                    "China",
                    "United States",
                    "Indonesia",
                    "Pakistan",
                    "Nigeria",
                    "Brazil",
                    "Bangladesh",
                    "Russia",
                    "Ethiopia"
                  ],
                  "xaxis": "x",
                  "y": [
                    1441719852,
                    1425178782,
                    341814420,
                    279798049,
                    245209815,
                    229152217,
                    217637297,
                    174701211,
                    143957079,
                    129719719
                  ],
                  "yaxis": "y"
                }
              ],
              "layout": {
                "barmode": "relative",
                "coloraxis": {
                  "colorbar": {
                    "title": {
                      "text": "Growth Rate"
                    }
                  },
                  "colorscale": [
                    [
                      0,
                      "#0d0887"
                    ],
                    [
                      0.1111111111111111,
                      "#46039f"
                    ],
                    [
                      0.2222222222222222,
                      "#7201a8"
                    ],
                    [
                      0.3333333333333333,
                      "#9c179e"
                    ],
                    [
                      0.4444444444444444,
                      "#bd3786"
                    ],
                    [
                      0.5555555555555556,
                      "#d8576b"
                    ],
                    [
                      0.6666666666666666,
                      "#ed7953"
                    ],
                    [
                      0.7777777777777778,
                      "#fb9f3a"
                    ],
                    [
                      0.8888888888888888,
                      "#fdca26"
                    ],
                    [
                      1,
                      "#f0f921"
                    ]
                  ]
                },
                "legend": {
                  "tracegroupgap": 0
                },
                "margin": {
                  "t": 60
                },
                "template": {
                  "data": {
                    "bar": [
                      {
                        "error_x": {
                          "color": "#2a3f5f"
                        },
                        "error_y": {
                          "color": "#2a3f5f"
                        },
                        "marker": {
                          "line": {
                            "color": "#E5ECF6",
                            "width": 0.5
                          },
                          "pattern": {
                            "fillmode": "overlay",
                            "size": 10,
                            "solidity": 0.2
                          }
                        },
                        "type": "bar"
                      }
                    ],
                    "barpolar": [
                      {
                        "marker": {
                          "line": {
                            "color": "#E5ECF6",
                            "width": 0.5
                          },
                          "pattern": {
                            "fillmode": "overlay",
                            "size": 10,
                            "solidity": 0.2
                          }
                        },
                        "type": "barpolar"
                      }
                    ],
                    "carpet": [
                      {
                        "aaxis": {
                          "endlinecolor": "#2a3f5f",
                          "gridcolor": "white",
                          "linecolor": "white",
                          "minorgridcolor": "white",
                          "startlinecolor": "#2a3f5f"
                        },
                        "baxis": {
                          "endlinecolor": "#2a3f5f",
                          "gridcolor": "white",
                          "linecolor": "white",
                          "minorgridcolor": "white",
                          "startlinecolor": "#2a3f5f"
                        },
                        "type": "carpet"
                      }
                    ],
                    "choropleth": [
                      {
                        "colorbar": {
                          "outlinewidth": 0,
                          "ticks": ""
                        },
                        "type": "choropleth"
                      }
                    ],
                    "contour": [
                      {
                        "colorbar": {
                          "outlinewidth": 0,
                          "ticks": ""
                        },
                        "colorscale": [
                          [
                            0,
                            "#0d0887"
                          ],
                          [
                            0.1111111111111111,
                            "#46039f"
                          ],
                          [
                            0.2222222222222222,
                            "#7201a8"
                          ],
                          [
                            0.3333333333333333,
                            "#9c179e"
                          ],
                          [
                            0.4444444444444444,
                            "#bd3786"
                          ],
                          [
                            0.5555555555555556,
                            "#d8576b"
                          ],
                          [
                            0.6666666666666666,
                            "#ed7953"
                          ],
                          [
                            0.7777777777777778,
                            "#fb9f3a"
                          ],
                          [
                            0.8888888888888888,
                            "#fdca26"
                          ],
                          [
                            1,
                            "#f0f921"
                          ]
                        ],
                        "type": "contour"
                      }
                    ],
                    "contourcarpet": [
                      {
                        "colorbar": {
                          "outlinewidth": 0,
                          "ticks": ""
                        },
                        "type": "contourcarpet"
                      }
                    ],
                    "heatmap": [
                      {
                        "colorbar": {
                          "outlinewidth": 0,
                          "ticks": ""
                        },
                        "colorscale": [
                          [
                            0,
                            "#0d0887"
                          ],
                          [
                            0.1111111111111111,
                            "#46039f"
                          ],
                          [
                            0.2222222222222222,
                            "#7201a8"
                          ],
                          [
                            0.3333333333333333,
                            "#9c179e"
                          ],
                          [
                            0.4444444444444444,
                            "#bd3786"
                          ],
                          [
                            0.5555555555555556,
                            "#d8576b"
                          ],
                          [
                            0.6666666666666666,
                            "#ed7953"
                          ],
                          [
                            0.7777777777777778,
                            "#fb9f3a"
                          ],
                          [
                            0.8888888888888888,
                            "#fdca26"
                          ],
                          [
                            1,
                            "#f0f921"
                          ]
                        ],
                        "type": "heatmap"
                      }
                    ],
                    "heatmapgl": [
                      {
                        "colorbar": {
                          "outlinewidth": 0,
                          "ticks": ""
                        },
                        "colorscale": [
                          [
                            0,
                            "#0d0887"
                          ],
                          [
                            0.1111111111111111,
                            "#46039f"
                          ],
                          [
                            0.2222222222222222,
                            "#7201a8"
                          ],
                          [
                            0.3333333333333333,
                            "#9c179e"
                          ],
                          [
                            0.4444444444444444,
                            "#bd3786"
                          ],
                          [
                            0.5555555555555556,
                            "#d8576b"
                          ],
                          [
                            0.6666666666666666,
                            "#ed7953"
                          ],
                          [
                            0.7777777777777778,
                            "#fb9f3a"
                          ],
                          [
                            0.8888888888888888,
                            "#fdca26"
                          ],
                          [
                            1,
                            "#f0f921"
                          ]
                        ],
                        "type": "heatmapgl"
                      }
                    ],
                    "histogram": [
                      {
                        "marker": {
                          "pattern": {
                            "fillmode": "overlay",
                            "size": 10,
                            "solidity": 0.2
                          }
                        },
                        "type": "histogram"
                      }
                    ],
                    "histogram2d": [
                      {
                        "colorbar": {
                          "outlinewidth": 0,
                          "ticks": ""
                        },
                        "colorscale": [
                          [
                            0,
                            "#0d0887"
                          ],
                          [
                            0.1111111111111111,
                            "#46039f"
                          ],
                          [
                            0.2222222222222222,
                            "#7201a8"
                          ],
                          [
                            0.3333333333333333,
                            "#9c179e"
                          ],
                          [
                            0.4444444444444444,
                            "#bd3786"
                          ],
                          [
                            0.5555555555555556,
                            "#d8576b"
                          ],
                          [
                            0.6666666666666666,
                            "#ed7953"
                          ],
                          [
                            0.7777777777777778,
                            "#fb9f3a"
                          ],
                          [
                            0.8888888888888888,
                            "#fdca26"
                          ],
                          [
                            1,
                            "#f0f921"
                          ]
                        ],
                        "type": "histogram2d"
                      }
                    ],
                    "histogram2dcontour": [
                      {
                        "colorbar": {
                          "outlinewidth": 0,
                          "ticks": ""
                        },
                        "colorscale": [
                          [
                            0,
                            "#0d0887"
                          ],
                          [
                            0.1111111111111111,
                            "#46039f"
                          ],
                          [
                            0.2222222222222222,
                            "#7201a8"
                          ],
                          [
                            0.3333333333333333,
                            "#9c179e"
                          ],
                          [
                            0.4444444444444444,
                            "#bd3786"
                          ],
                          [
                            0.5555555555555556,
                            "#d8576b"
                          ],
                          [
                            0.6666666666666666,
                            "#ed7953"
                          ],
                          [
                            0.7777777777777778,
                            "#fb9f3a"
                          ],
                          [
                            0.8888888888888888,
                            "#fdca26"
                          ],
                          [
                            1,
                            "#f0f921"
                          ]
                        ],
                        "type": "histogram2dcontour"
                      }
                    ],
                    "mesh3d": [
                      {
                        "colorbar": {
                          "outlinewidth": 0,
                          "ticks": ""
                        },
                        "type": "mesh3d"
                      }
                    ],
                    "parcoords": [
                      {
                        "line": {
                          "colorbar": {
                            "outlinewidth": 0,
                            "ticks": ""
                          }
                        },
                        "type": "parcoords"
                      }
                    ],
                    "pie": [
                      {
                        "automargin": true,
                        "type": "pie"
                      }
                    ],
                    "scatter": [
                      {
                        "fillpattern": {
                          "fillmode": "overlay",
                          "size": 10,
                          "solidity": 0.2
                        },
                        "type": "scatter"
                      }
                    ],
                    "scatter3d": [
                      {
                        "line": {
                          "colorbar": {
                            "outlinewidth": 0,
                            "ticks": ""
                          }
                        },
                        "marker": {
                          "colorbar": {
                            "outlinewidth": 0,
                            "ticks": ""
                          }
                        },
                        "type": "scatter3d"
                      }
                    ],
                    "scattercarpet": [
                      {
                        "marker": {
                          "colorbar": {
                            "outlinewidth": 0,
                            "ticks": ""
                          }
                        },
                        "type": "scattercarpet"
                      }
                    ],
                    "scattergeo": [
                      {
                        "marker": {
                          "colorbar": {
                            "outlinewidth": 0,
                            "ticks": ""
                          }
                        },
                        "type": "scattergeo"
                      }
                    ],
                    "scattergl": [
                      {
                        "marker": {
                          "colorbar": {
                            "outlinewidth": 0,
                            "ticks": ""
                          }
                        },
                        "type": "scattergl"
                      }
                    ],
                    "scattermapbox": [
                      {
                        "marker": {
                          "colorbar": {
                            "outlinewidth": 0,
                            "ticks": ""
                          }
                        },
                        "type": "scattermapbox"
                      }
                    ],
                    "scatterpolar": [
                      {
                        "marker": {
                          "colorbar": {
                            "outlinewidth": 0,
                            "ticks": ""
                          }
                        },
                        "type": "scatterpolar"
                      }
                    ],
                    "scatterpolargl": [
                      {
                        "marker": {
                          "colorbar": {
                            "outlinewidth": 0,
                            "ticks": ""
                          }
                        },
                        "type": "scatterpolargl"
                      }
                    ],
                    "scatterternary": [
                      {
                        "marker": {
                          "colorbar": {
                            "outlinewidth": 0,
                            "ticks": ""
                          }
                        },
                        "type": "scatterternary"
                      }
                    ],
                    "surface": [
                      {
                        "colorbar": {
                          "outlinewidth": 0,
                          "ticks": ""
                        },
                        "colorscale": [
                          [
                            0,
                            "#0d0887"
                          ],
                          [
                            0.1111111111111111,
                            "#46039f"
                          ],
                          [
                            0.2222222222222222,
                            "#7201a8"
                          ],
                          [
                            0.3333333333333333,
                            "#9c179e"
                          ],
                          [
                            0.4444444444444444,
                            "#bd3786"
                          ],
                          [
                            0.5555555555555556,
                            "#d8576b"
                          ],
                          [
                            0.6666666666666666,
                            "#ed7953"
                          ],
                          [
                            0.7777777777777778,
                            "#fb9f3a"
                          ],
                          [
                            0.8888888888888888,
                            "#fdca26"
                          ],
                          [
                            1,
                            "#f0f921"
                          ]
                        ],
                        "type": "surface"
                      }
                    ],
                    "table": [
                      {
                        "cells": {
                          "fill": {
                            "color": "#EBF0F8"
                          },
                          "line": {
                            "color": "white"
                          }
                        },
                        "header": {
                          "fill": {
                            "color": "#C8D4E3"
                          },
                          "line": {
                            "color": "white"
                          }
                        },
                        "type": "table"
                      }
                    ]
                  },
                  "layout": {
                    "annotationdefaults": {
                      "arrowcolor": "#2a3f5f",
                      "arrowhead": 0,
                      "arrowwidth": 1
                    },
                    "autotypenumbers": "strict",
                    "coloraxis": {
                      "colorbar": {
                        "outlinewidth": 0,
                        "ticks": ""
                      }
                    },
                    "colorscale": {
                      "diverging": [
                        [
                          0,
                          "#8e0152"
                        ],
                        [
                          0.1,
                          "#c51b7d"
                        ],
                        [
                          0.2,
                          "#de77ae"
                        ],
                        [
                          0.3,
                          "#f1b6da"
                        ],
                        [
                          0.4,
                          "#fde0ef"
                        ],
                        [
                          0.5,
                          "#f7f7f7"
                        ],
                        [
                          0.6,
                          "#e6f5d0"
                        ],
                        [
                          0.7,
                          "#b8e186"
                        ],
                        [
                          0.8,
                          "#7fbc41"
                        ],
                        [
                          0.9,
                          "#4d9221"
                        ],
                        [
                          1,
                          "#276419"
                        ]
                      ],
                      "sequential": [
                        [
                          0,
                          "#0d0887"
                        ],
                        [
                          0.1111111111111111,
                          "#46039f"
                        ],
                        [
                          0.2222222222222222,
                          "#7201a8"
                        ],
                        [
                          0.3333333333333333,
                          "#9c179e"
                        ],
                        [
                          0.4444444444444444,
                          "#bd3786"
                        ],
                        [
                          0.5555555555555556,
                          "#d8576b"
                        ],
                        [
                          0.6666666666666666,
                          "#ed7953"
                        ],
                        [
                          0.7777777777777778,
                          "#fb9f3a"
                        ],
                        [
                          0.8888888888888888,
                          "#fdca26"
                        ],
                        [
                          1,
                          "#f0f921"
                        ]
                      ],
                      "sequentialminus": [
                        [
                          0,
                          "#0d0887"
                        ],
                        [
                          0.1111111111111111,
                          "#46039f"
                        ],
                        [
                          0.2222222222222222,
                          "#7201a8"
                        ],
                        [
                          0.3333333333333333,
                          "#9c179e"
                        ],
                        [
                          0.4444444444444444,
                          "#bd3786"
                        ],
                        [
                          0.5555555555555556,
                          "#d8576b"
                        ],
                        [
                          0.6666666666666666,
                          "#ed7953"
                        ],
                        [
                          0.7777777777777778,
                          "#fb9f3a"
                        ],
                        [
                          0.8888888888888888,
                          "#fdca26"
                        ],
                        [
                          1,
                          "#f0f921"
                        ]
                      ]
                    },
                    "colorway": [
                      "#636efa",
                      "#EF553B",
                      "#00cc96",
                      "#ab63fa",
                      "#FFA15A",
                      "#19d3f3",
                      "#FF6692",
                      "#B6E880",
                      "#FF97FF",
                      "#FECB52"
                    ],
                    "font": {
                      "color": "#2a3f5f"
                    },
                    "geo": {
                      "bgcolor": "white",
                      "lakecolor": "white",
                      "landcolor": "#E5ECF6",
                      "showlakes": true,
                      "showland": true,
                      "subunitcolor": "white"
                    },
                    "hoverlabel": {
                      "align": "left"
                    },
                    "hovermode": "closest",
                    "mapbox": {
                      "style": "light"
                    },
                    "paper_bgcolor": "white",
                    "plot_bgcolor": "#E5ECF6",
                    "polar": {
                      "angularaxis": {
                        "gridcolor": "white",
                        "linecolor": "white",
                        "ticks": ""
                      },
                      "bgcolor": "#E5ECF6",
                      "radialaxis": {
                        "gridcolor": "white",
                        "linecolor": "white",
                        "ticks": ""
                      }
                    },
                    "scene": {
                      "xaxis": {
                        "backgroundcolor": "#E5ECF6",
                        "gridcolor": "white",
                        "gridwidth": 2,
                        "linecolor": "white",
                        "showbackground": true,
                        "ticks": "",
                        "zerolinecolor": "white"
                      },
                      "yaxis": {
                        "backgroundcolor": "#E5ECF6",
                        "gridcolor": "white",
                        "gridwidth": 2,
                        "linecolor": "white",
                        "showbackground": true,
                        "ticks": "",
                        "zerolinecolor": "white"
                      },
                      "zaxis": {
                        "backgroundcolor": "#E5ECF6",
                        "gridcolor": "white",
                        "gridwidth": 2,
                        "linecolor": "white",
                        "showbackground": true,
                        "ticks": "",
                        "zerolinecolor": "white"
                      }
                    },
                    "shapedefaults": {
                      "line": {
                        "color": "#2a3f5f"
                      }
                    },
                    "ternary": {
                      "aaxis": {
                        "gridcolor": "white",
                        "linecolor": "white",
                        "ticks": ""
                      },
                      "baxis": {
                        "gridcolor": "white",
                        "linecolor": "white",
                        "ticks": ""
                      },
                      "bgcolor": "#E5ECF6",
                      "caxis": {
                        "gridcolor": "white",
                        "linecolor": "white",
                        "ticks": ""
                      }
                    },
                    "title": {
                      "x": 0.05
                    },
                    "xaxis": {
                      "automargin": true,
                      "gridcolor": "white",
                      "linecolor": "white",
                      "ticks": "",
                      "title": {
                        "standoff": 15
                      },
                      "zerolinecolor": "white",
                      "zerolinewidth": 2
                    },
                    "yaxis": {
                      "automargin": true,
                      "gridcolor": "white",
                      "linecolor": "white",
                      "ticks": "",
                      "title": {
                        "standoff": 15
                      },
                      "zerolinecolor": "white",
                      "zerolinewidth": 2
                    }
                  }
                },
                "xaxis": {
                  "anchor": "y",
                  "domain": [
                    0,
                    1
                  ],
                  "title": {
                    "text": "Country"
                  }
                },
                "yaxis": {
                  "anchor": "x",
                  "domain": [
                    0,
                    1
                  ],
                  "title": {
                    "text": "Population 2024"
                  }
                }
              }
            }
          },
          "metadata": {},
          "output_type": "display_data"
        }
      ],
      "source": [
        "fig = px.bar(df[0:10], x=\"Country\", y=\"Population 2024\", color=\"Growth Rate\", barmode=\"relative\")\n",
        "#checking growth rates of different countries according to their population\n",
        "fig.show()"
      ]
    },
    {
      "cell_type": "code",
      "execution_count": 7,
      "metadata": {
        "colab": {
          "base_uri": "https://localhost:8080/",
          "height": 542
        },
        "id": "LsrTB5AuBCB1",
        "outputId": "21d48787-3099-4a3d-ae20-e62d59601229"
      },
      "outputs": [
        {
          "data": {
            "application/vnd.plotly.v1+json": {
              "config": {
                "plotlyServerURL": "https://plot.ly"
              },
              "data": [
                {
                  "alignmentgroup": "True",
                  "hovertemplate": "Country=%{x}<br>Population 2024=%{y}<br>Growth Rate=%{marker.color}<extra></extra>",
                  "legendgroup": "",
                  "marker": {
                    "color": [
                      0.0253,
                      0.0193,
                      0.0261,
                      0.0381,
                      0.0098,
                      0.0032,
                      0.0483,
                      0.031,
                      0.0011,
                      0.0253,
                      0.0025,
                      0.026,
                      0.0275,
                      0.0113,
                      0.0015,
                      -0.0138,
                      0.0311,
                      0.0311,
                      0.0103,
                      0.0147,
                      0.0258,
                      0.003,
                      0.0104,
                      0.0213,
                      0.0238,
                      0.0227,
                      0.0268,
                      0.0267,
                      0.0144,
                      0.0085,
                      0.0121,
                      0.0025,
                      0.0089,
                      0.0042,
                      0.017,
                      -0.0018,
                      0.0156,
                      0.0058,
                      0.018,
                      0.0008,
                      0.0048,
                      0.0185,
                      -0.0037,
                      -0.0024,
                      -0.0159,
                      0.0079,
                      -0.0045,
                      0.0149,
                      0.0229,
                      0.0213
                    ],
                    "coloraxis": "coloraxis",
                    "pattern": {
                      "shape": ""
                    }
                  },
                  "name": "",
                  "offsetgroup": "",
                  "orientation": "v",
                  "showlegend": false,
                  "textposition": "auto",
                  "type": "bar",
                  "x": [
                    "Ivory Coast",
                    "Venezuela",
                    "Cameroon",
                    "Niger",
                    "Australia",
                    "North Korea",
                    "Syria",
                    "Mali",
                    "Taiwan",
                    "Burkina Faso",
                    "Sri Lanka",
                    "Malawi",
                    "Zambia",
                    "Kazakhstan",
                    "Chile",
                    "Romania",
                    "Chad",
                    "Somalia",
                    "Ecuador",
                    "Guatemala",
                    "Senegal",
                    "Netherlands",
                    "Cambodia",
                    "Zimbabwe",
                    "Guinea",
                    "Rwanda",
                    "Benin",
                    "Burundi",
                    "Bolivia",
                    "Tunisia",
                    "Haiti",
                    "Belgium",
                    "Dominican Republic",
                    "Jordan",
                    "South Sudan",
                    "Cuba",
                    "Honduras",
                    "Sweden",
                    "Papua New Guinea",
                    "Czech Republic",
                    "Azerbaijan",
                    "Tajikistan",
                    "Greece",
                    "Portugal",
                    "Hungary",
                    "United Arab Emirates",
                    "Belarus",
                    "Israel",
                    "Togo",
                    "Sierra Leone"
                  ],
                  "xaxis": "x",
                  "y": [
                    29603302,
                    29395334,
                    29394433,
                    28238972,
                    26699482,
                    26244582,
                    24348053,
                    24015789,
                    23950214,
                    23840247,
                    21949268,
                    21475962,
                    21134695,
                    19828165,
                    19658839,
                    19618996,
                    18847148,
                    18706922,
                    18377367,
                    18358430,
                    18221567,
                    17671125,
                    17121847,
                    17020321,
                    14528770,
                    14414910,
                    14080072,
                    13591657,
                    12567336,
                    12564689,
                    11867030,
                    11715774,
                    11434005,
                    11384922,
                    11277092,
                    11174587,
                    10759406,
                    10673669,
                    10515788,
                    10503734,
                    10462904,
                    10331513,
                    10302720,
                    10223349,
                    9994993,
                    9591853,
                    9455037,
                    9311652,
                    9260864,
                    8977972
                  ],
                  "yaxis": "y"
                }
              ],
              "layout": {
                "barmode": "relative",
                "coloraxis": {
                  "colorbar": {
                    "title": {
                      "text": "Growth Rate"
                    }
                  },
                  "colorscale": [
                    [
                      0,
                      "#0d0887"
                    ],
                    [
                      0.1111111111111111,
                      "#46039f"
                    ],
                    [
                      0.2222222222222222,
                      "#7201a8"
                    ],
                    [
                      0.3333333333333333,
                      "#9c179e"
                    ],
                    [
                      0.4444444444444444,
                      "#bd3786"
                    ],
                    [
                      0.5555555555555556,
                      "#d8576b"
                    ],
                    [
                      0.6666666666666666,
                      "#ed7953"
                    ],
                    [
                      0.7777777777777778,
                      "#fb9f3a"
                    ],
                    [
                      0.8888888888888888,
                      "#fdca26"
                    ],
                    [
                      1,
                      "#f0f921"
                    ]
                  ]
                },
                "legend": {
                  "tracegroupgap": 0
                },
                "margin": {
                  "t": 60
                },
                "template": {
                  "data": {
                    "bar": [
                      {
                        "error_x": {
                          "color": "#2a3f5f"
                        },
                        "error_y": {
                          "color": "#2a3f5f"
                        },
                        "marker": {
                          "line": {
                            "color": "#E5ECF6",
                            "width": 0.5
                          },
                          "pattern": {
                            "fillmode": "overlay",
                            "size": 10,
                            "solidity": 0.2
                          }
                        },
                        "type": "bar"
                      }
                    ],
                    "barpolar": [
                      {
                        "marker": {
                          "line": {
                            "color": "#E5ECF6",
                            "width": 0.5
                          },
                          "pattern": {
                            "fillmode": "overlay",
                            "size": 10,
                            "solidity": 0.2
                          }
                        },
                        "type": "barpolar"
                      }
                    ],
                    "carpet": [
                      {
                        "aaxis": {
                          "endlinecolor": "#2a3f5f",
                          "gridcolor": "white",
                          "linecolor": "white",
                          "minorgridcolor": "white",
                          "startlinecolor": "#2a3f5f"
                        },
                        "baxis": {
                          "endlinecolor": "#2a3f5f",
                          "gridcolor": "white",
                          "linecolor": "white",
                          "minorgridcolor": "white",
                          "startlinecolor": "#2a3f5f"
                        },
                        "type": "carpet"
                      }
                    ],
                    "choropleth": [
                      {
                        "colorbar": {
                          "outlinewidth": 0,
                          "ticks": ""
                        },
                        "type": "choropleth"
                      }
                    ],
                    "contour": [
                      {
                        "colorbar": {
                          "outlinewidth": 0,
                          "ticks": ""
                        },
                        "colorscale": [
                          [
                            0,
                            "#0d0887"
                          ],
                          [
                            0.1111111111111111,
                            "#46039f"
                          ],
                          [
                            0.2222222222222222,
                            "#7201a8"
                          ],
                          [
                            0.3333333333333333,
                            "#9c179e"
                          ],
                          [
                            0.4444444444444444,
                            "#bd3786"
                          ],
                          [
                            0.5555555555555556,
                            "#d8576b"
                          ],
                          [
                            0.6666666666666666,
                            "#ed7953"
                          ],
                          [
                            0.7777777777777778,
                            "#fb9f3a"
                          ],
                          [
                            0.8888888888888888,
                            "#fdca26"
                          ],
                          [
                            1,
                            "#f0f921"
                          ]
                        ],
                        "type": "contour"
                      }
                    ],
                    "contourcarpet": [
                      {
                        "colorbar": {
                          "outlinewidth": 0,
                          "ticks": ""
                        },
                        "type": "contourcarpet"
                      }
                    ],
                    "heatmap": [
                      {
                        "colorbar": {
                          "outlinewidth": 0,
                          "ticks": ""
                        },
                        "colorscale": [
                          [
                            0,
                            "#0d0887"
                          ],
                          [
                            0.1111111111111111,
                            "#46039f"
                          ],
                          [
                            0.2222222222222222,
                            "#7201a8"
                          ],
                          [
                            0.3333333333333333,
                            "#9c179e"
                          ],
                          [
                            0.4444444444444444,
                            "#bd3786"
                          ],
                          [
                            0.5555555555555556,
                            "#d8576b"
                          ],
                          [
                            0.6666666666666666,
                            "#ed7953"
                          ],
                          [
                            0.7777777777777778,
                            "#fb9f3a"
                          ],
                          [
                            0.8888888888888888,
                            "#fdca26"
                          ],
                          [
                            1,
                            "#f0f921"
                          ]
                        ],
                        "type": "heatmap"
                      }
                    ],
                    "heatmapgl": [
                      {
                        "colorbar": {
                          "outlinewidth": 0,
                          "ticks": ""
                        },
                        "colorscale": [
                          [
                            0,
                            "#0d0887"
                          ],
                          [
                            0.1111111111111111,
                            "#46039f"
                          ],
                          [
                            0.2222222222222222,
                            "#7201a8"
                          ],
                          [
                            0.3333333333333333,
                            "#9c179e"
                          ],
                          [
                            0.4444444444444444,
                            "#bd3786"
                          ],
                          [
                            0.5555555555555556,
                            "#d8576b"
                          ],
                          [
                            0.6666666666666666,
                            "#ed7953"
                          ],
                          [
                            0.7777777777777778,
                            "#fb9f3a"
                          ],
                          [
                            0.8888888888888888,
                            "#fdca26"
                          ],
                          [
                            1,
                            "#f0f921"
                          ]
                        ],
                        "type": "heatmapgl"
                      }
                    ],
                    "histogram": [
                      {
                        "marker": {
                          "pattern": {
                            "fillmode": "overlay",
                            "size": 10,
                            "solidity": 0.2
                          }
                        },
                        "type": "histogram"
                      }
                    ],
                    "histogram2d": [
                      {
                        "colorbar": {
                          "outlinewidth": 0,
                          "ticks": ""
                        },
                        "colorscale": [
                          [
                            0,
                            "#0d0887"
                          ],
                          [
                            0.1111111111111111,
                            "#46039f"
                          ],
                          [
                            0.2222222222222222,
                            "#7201a8"
                          ],
                          [
                            0.3333333333333333,
                            "#9c179e"
                          ],
                          [
                            0.4444444444444444,
                            "#bd3786"
                          ],
                          [
                            0.5555555555555556,
                            "#d8576b"
                          ],
                          [
                            0.6666666666666666,
                            "#ed7953"
                          ],
                          [
                            0.7777777777777778,
                            "#fb9f3a"
                          ],
                          [
                            0.8888888888888888,
                            "#fdca26"
                          ],
                          [
                            1,
                            "#f0f921"
                          ]
                        ],
                        "type": "histogram2d"
                      }
                    ],
                    "histogram2dcontour": [
                      {
                        "colorbar": {
                          "outlinewidth": 0,
                          "ticks": ""
                        },
                        "colorscale": [
                          [
                            0,
                            "#0d0887"
                          ],
                          [
                            0.1111111111111111,
                            "#46039f"
                          ],
                          [
                            0.2222222222222222,
                            "#7201a8"
                          ],
                          [
                            0.3333333333333333,
                            "#9c179e"
                          ],
                          [
                            0.4444444444444444,
                            "#bd3786"
                          ],
                          [
                            0.5555555555555556,
                            "#d8576b"
                          ],
                          [
                            0.6666666666666666,
                            "#ed7953"
                          ],
                          [
                            0.7777777777777778,
                            "#fb9f3a"
                          ],
                          [
                            0.8888888888888888,
                            "#fdca26"
                          ],
                          [
                            1,
                            "#f0f921"
                          ]
                        ],
                        "type": "histogram2dcontour"
                      }
                    ],
                    "mesh3d": [
                      {
                        "colorbar": {
                          "outlinewidth": 0,
                          "ticks": ""
                        },
                        "type": "mesh3d"
                      }
                    ],
                    "parcoords": [
                      {
                        "line": {
                          "colorbar": {
                            "outlinewidth": 0,
                            "ticks": ""
                          }
                        },
                        "type": "parcoords"
                      }
                    ],
                    "pie": [
                      {
                        "automargin": true,
                        "type": "pie"
                      }
                    ],
                    "scatter": [
                      {
                        "fillpattern": {
                          "fillmode": "overlay",
                          "size": 10,
                          "solidity": 0.2
                        },
                        "type": "scatter"
                      }
                    ],
                    "scatter3d": [
                      {
                        "line": {
                          "colorbar": {
                            "outlinewidth": 0,
                            "ticks": ""
                          }
                        },
                        "marker": {
                          "colorbar": {
                            "outlinewidth": 0,
                            "ticks": ""
                          }
                        },
                        "type": "scatter3d"
                      }
                    ],
                    "scattercarpet": [
                      {
                        "marker": {
                          "colorbar": {
                            "outlinewidth": 0,
                            "ticks": ""
                          }
                        },
                        "type": "scattercarpet"
                      }
                    ],
                    "scattergeo": [
                      {
                        "marker": {
                          "colorbar": {
                            "outlinewidth": 0,
                            "ticks": ""
                          }
                        },
                        "type": "scattergeo"
                      }
                    ],
                    "scattergl": [
                      {
                        "marker": {
                          "colorbar": {
                            "outlinewidth": 0,
                            "ticks": ""
                          }
                        },
                        "type": "scattergl"
                      }
                    ],
                    "scattermapbox": [
                      {
                        "marker": {
                          "colorbar": {
                            "outlinewidth": 0,
                            "ticks": ""
                          }
                        },
                        "type": "scattermapbox"
                      }
                    ],
                    "scatterpolar": [
                      {
                        "marker": {
                          "colorbar": {
                            "outlinewidth": 0,
                            "ticks": ""
                          }
                        },
                        "type": "scatterpolar"
                      }
                    ],
                    "scatterpolargl": [
                      {
                        "marker": {
                          "colorbar": {
                            "outlinewidth": 0,
                            "ticks": ""
                          }
                        },
                        "type": "scatterpolargl"
                      }
                    ],
                    "scatterternary": [
                      {
                        "marker": {
                          "colorbar": {
                            "outlinewidth": 0,
                            "ticks": ""
                          }
                        },
                        "type": "scatterternary"
                      }
                    ],
                    "surface": [
                      {
                        "colorbar": {
                          "outlinewidth": 0,
                          "ticks": ""
                        },
                        "colorscale": [
                          [
                            0,
                            "#0d0887"
                          ],
                          [
                            0.1111111111111111,
                            "#46039f"
                          ],
                          [
                            0.2222222222222222,
                            "#7201a8"
                          ],
                          [
                            0.3333333333333333,
                            "#9c179e"
                          ],
                          [
                            0.4444444444444444,
                            "#bd3786"
                          ],
                          [
                            0.5555555555555556,
                            "#d8576b"
                          ],
                          [
                            0.6666666666666666,
                            "#ed7953"
                          ],
                          [
                            0.7777777777777778,
                            "#fb9f3a"
                          ],
                          [
                            0.8888888888888888,
                            "#fdca26"
                          ],
                          [
                            1,
                            "#f0f921"
                          ]
                        ],
                        "type": "surface"
                      }
                    ],
                    "table": [
                      {
                        "cells": {
                          "fill": {
                            "color": "#EBF0F8"
                          },
                          "line": {
                            "color": "white"
                          }
                        },
                        "header": {
                          "fill": {
                            "color": "#C8D4E3"
                          },
                          "line": {
                            "color": "white"
                          }
                        },
                        "type": "table"
                      }
                    ]
                  },
                  "layout": {
                    "annotationdefaults": {
                      "arrowcolor": "#2a3f5f",
                      "arrowhead": 0,
                      "arrowwidth": 1
                    },
                    "autotypenumbers": "strict",
                    "coloraxis": {
                      "colorbar": {
                        "outlinewidth": 0,
                        "ticks": ""
                      }
                    },
                    "colorscale": {
                      "diverging": [
                        [
                          0,
                          "#8e0152"
                        ],
                        [
                          0.1,
                          "#c51b7d"
                        ],
                        [
                          0.2,
                          "#de77ae"
                        ],
                        [
                          0.3,
                          "#f1b6da"
                        ],
                        [
                          0.4,
                          "#fde0ef"
                        ],
                        [
                          0.5,
                          "#f7f7f7"
                        ],
                        [
                          0.6,
                          "#e6f5d0"
                        ],
                        [
                          0.7,
                          "#b8e186"
                        ],
                        [
                          0.8,
                          "#7fbc41"
                        ],
                        [
                          0.9,
                          "#4d9221"
                        ],
                        [
                          1,
                          "#276419"
                        ]
                      ],
                      "sequential": [
                        [
                          0,
                          "#0d0887"
                        ],
                        [
                          0.1111111111111111,
                          "#46039f"
                        ],
                        [
                          0.2222222222222222,
                          "#7201a8"
                        ],
                        [
                          0.3333333333333333,
                          "#9c179e"
                        ],
                        [
                          0.4444444444444444,
                          "#bd3786"
                        ],
                        [
                          0.5555555555555556,
                          "#d8576b"
                        ],
                        [
                          0.6666666666666666,
                          "#ed7953"
                        ],
                        [
                          0.7777777777777778,
                          "#fb9f3a"
                        ],
                        [
                          0.8888888888888888,
                          "#fdca26"
                        ],
                        [
                          1,
                          "#f0f921"
                        ]
                      ],
                      "sequentialminus": [
                        [
                          0,
                          "#0d0887"
                        ],
                        [
                          0.1111111111111111,
                          "#46039f"
                        ],
                        [
                          0.2222222222222222,
                          "#7201a8"
                        ],
                        [
                          0.3333333333333333,
                          "#9c179e"
                        ],
                        [
                          0.4444444444444444,
                          "#bd3786"
                        ],
                        [
                          0.5555555555555556,
                          "#d8576b"
                        ],
                        [
                          0.6666666666666666,
                          "#ed7953"
                        ],
                        [
                          0.7777777777777778,
                          "#fb9f3a"
                        ],
                        [
                          0.8888888888888888,
                          "#fdca26"
                        ],
                        [
                          1,
                          "#f0f921"
                        ]
                      ]
                    },
                    "colorway": [
                      "#636efa",
                      "#EF553B",
                      "#00cc96",
                      "#ab63fa",
                      "#FFA15A",
                      "#19d3f3",
                      "#FF6692",
                      "#B6E880",
                      "#FF97FF",
                      "#FECB52"
                    ],
                    "font": {
                      "color": "#2a3f5f"
                    },
                    "geo": {
                      "bgcolor": "white",
                      "lakecolor": "white",
                      "landcolor": "#E5ECF6",
                      "showlakes": true,
                      "showland": true,
                      "subunitcolor": "white"
                    },
                    "hoverlabel": {
                      "align": "left"
                    },
                    "hovermode": "closest",
                    "mapbox": {
                      "style": "light"
                    },
                    "paper_bgcolor": "white",
                    "plot_bgcolor": "#E5ECF6",
                    "polar": {
                      "angularaxis": {
                        "gridcolor": "white",
                        "linecolor": "white",
                        "ticks": ""
                      },
                      "bgcolor": "#E5ECF6",
                      "radialaxis": {
                        "gridcolor": "white",
                        "linecolor": "white",
                        "ticks": ""
                      }
                    },
                    "scene": {
                      "xaxis": {
                        "backgroundcolor": "#E5ECF6",
                        "gridcolor": "white",
                        "gridwidth": 2,
                        "linecolor": "white",
                        "showbackground": true,
                        "ticks": "",
                        "zerolinecolor": "white"
                      },
                      "yaxis": {
                        "backgroundcolor": "#E5ECF6",
                        "gridcolor": "white",
                        "gridwidth": 2,
                        "linecolor": "white",
                        "showbackground": true,
                        "ticks": "",
                        "zerolinecolor": "white"
                      },
                      "zaxis": {
                        "backgroundcolor": "#E5ECF6",
                        "gridcolor": "white",
                        "gridwidth": 2,
                        "linecolor": "white",
                        "showbackground": true,
                        "ticks": "",
                        "zerolinecolor": "white"
                      }
                    },
                    "shapedefaults": {
                      "line": {
                        "color": "#2a3f5f"
                      }
                    },
                    "ternary": {
                      "aaxis": {
                        "gridcolor": "white",
                        "linecolor": "white",
                        "ticks": ""
                      },
                      "baxis": {
                        "gridcolor": "white",
                        "linecolor": "white",
                        "ticks": ""
                      },
                      "bgcolor": "#E5ECF6",
                      "caxis": {
                        "gridcolor": "white",
                        "linecolor": "white",
                        "ticks": ""
                      }
                    },
                    "title": {
                      "x": 0.05
                    },
                    "xaxis": {
                      "automargin": true,
                      "gridcolor": "white",
                      "linecolor": "white",
                      "ticks": "",
                      "title": {
                        "standoff": 15
                      },
                      "zerolinecolor": "white",
                      "zerolinewidth": 2
                    },
                    "yaxis": {
                      "automargin": true,
                      "gridcolor": "white",
                      "linecolor": "white",
                      "ticks": "",
                      "title": {
                        "standoff": 15
                      },
                      "zerolinecolor": "white",
                      "zerolinewidth": 2
                    }
                  }
                },
                "xaxis": {
                  "anchor": "y",
                  "domain": [
                    0,
                    1
                  ],
                  "title": {
                    "text": "Country"
                  }
                },
                "yaxis": {
                  "anchor": "x",
                  "domain": [
                    0,
                    1
                  ],
                  "title": {
                    "text": "Population 2024"
                  }
                }
              }
            }
          },
          "metadata": {},
          "output_type": "display_data"
        }
      ],
      "source": [
        "fig = px.bar(df[50:100], x=\"Country\", y=\"Population 2024\", color=\"Growth Rate\", barmode=\"relative\")\n",
        "fig.show()"
      ]
    },
    {
      "cell_type": "code",
      "execution_count": 8,
      "metadata": {
        "colab": {
          "base_uri": "https://localhost:8080/",
          "height": 542
        },
        "id": "ORHnHR-J8SAX",
        "outputId": "3c6477b0-5368-41f3-964a-19feb3c894d6"
      },
      "outputs": [
        {
          "data": {
            "application/vnd.plotly.v1+json": {
              "config": {
                "plotlyServerURL": "https://plot.ly"
              },
              "data": [
                {
                  "alignmentgroup": "True",
                  "hovertemplate": "population change=%{x}<br>Country=%{y}<br>Growth Rate=%{marker.color}<extra></extra>",
                  "legendgroup": "",
                  "marker": {
                    "color": [
                      0.0157,
                      0.0151,
                      0.0053,
                      0.0294,
                      0.0082,
                      0.0252,
                      0.0329,
                      0.0196,
                      0.0239,
                      0.0092
                    ],
                    "coloraxis": "coloraxis",
                    "pattern": {
                      "shape": ""
                    }
                  },
                  "name": "",
                  "offsetgroup": "",
                  "orientation": "h",
                  "showlegend": false,
                  "textposition": "auto",
                  "type": "bar",
                  "x": [
                    1767654,
                    1768856,
                    1817857,
                    1980967,
                    2263927,
                    3192659,
                    3362306,
                    4724157,
                    5347585,
                    13092189
                  ],
                  "xaxis": "x",
                  "y": [
                    "Egypt",
                    "Philippines",
                    "United States",
                    "Tanzania",
                    "Indonesia",
                    "Ethiopia",
                    "DR Congo",
                    "Pakistan",
                    "Nigeria",
                    "India"
                  ],
                  "yaxis": "y"
                }
              ],
              "layout": {
                "barmode": "relative",
                "coloraxis": {
                  "colorbar": {
                    "title": {
                      "text": "Growth Rate"
                    }
                  },
                  "colorscale": [
                    [
                      0,
                      "#0d0887"
                    ],
                    [
                      0.1111111111111111,
                      "#46039f"
                    ],
                    [
                      0.2222222222222222,
                      "#7201a8"
                    ],
                    [
                      0.3333333333333333,
                      "#9c179e"
                    ],
                    [
                      0.4444444444444444,
                      "#bd3786"
                    ],
                    [
                      0.5555555555555556,
                      "#d8576b"
                    ],
                    [
                      0.6666666666666666,
                      "#ed7953"
                    ],
                    [
                      0.7777777777777778,
                      "#fb9f3a"
                    ],
                    [
                      0.8888888888888888,
                      "#fdca26"
                    ],
                    [
                      1,
                      "#f0f921"
                    ]
                  ]
                },
                "legend": {
                  "tracegroupgap": 0
                },
                "template": {
                  "data": {
                    "bar": [
                      {
                        "error_x": {
                          "color": "#2a3f5f"
                        },
                        "error_y": {
                          "color": "#2a3f5f"
                        },
                        "marker": {
                          "line": {
                            "color": "#E5ECF6",
                            "width": 0.5
                          },
                          "pattern": {
                            "fillmode": "overlay",
                            "size": 10,
                            "solidity": 0.2
                          }
                        },
                        "type": "bar"
                      }
                    ],
                    "barpolar": [
                      {
                        "marker": {
                          "line": {
                            "color": "#E5ECF6",
                            "width": 0.5
                          },
                          "pattern": {
                            "fillmode": "overlay",
                            "size": 10,
                            "solidity": 0.2
                          }
                        },
                        "type": "barpolar"
                      }
                    ],
                    "carpet": [
                      {
                        "aaxis": {
                          "endlinecolor": "#2a3f5f",
                          "gridcolor": "white",
                          "linecolor": "white",
                          "minorgridcolor": "white",
                          "startlinecolor": "#2a3f5f"
                        },
                        "baxis": {
                          "endlinecolor": "#2a3f5f",
                          "gridcolor": "white",
                          "linecolor": "white",
                          "minorgridcolor": "white",
                          "startlinecolor": "#2a3f5f"
                        },
                        "type": "carpet"
                      }
                    ],
                    "choropleth": [
                      {
                        "colorbar": {
                          "outlinewidth": 0,
                          "ticks": ""
                        },
                        "type": "choropleth"
                      }
                    ],
                    "contour": [
                      {
                        "colorbar": {
                          "outlinewidth": 0,
                          "ticks": ""
                        },
                        "colorscale": [
                          [
                            0,
                            "#0d0887"
                          ],
                          [
                            0.1111111111111111,
                            "#46039f"
                          ],
                          [
                            0.2222222222222222,
                            "#7201a8"
                          ],
                          [
                            0.3333333333333333,
                            "#9c179e"
                          ],
                          [
                            0.4444444444444444,
                            "#bd3786"
                          ],
                          [
                            0.5555555555555556,
                            "#d8576b"
                          ],
                          [
                            0.6666666666666666,
                            "#ed7953"
                          ],
                          [
                            0.7777777777777778,
                            "#fb9f3a"
                          ],
                          [
                            0.8888888888888888,
                            "#fdca26"
                          ],
                          [
                            1,
                            "#f0f921"
                          ]
                        ],
                        "type": "contour"
                      }
                    ],
                    "contourcarpet": [
                      {
                        "colorbar": {
                          "outlinewidth": 0,
                          "ticks": ""
                        },
                        "type": "contourcarpet"
                      }
                    ],
                    "heatmap": [
                      {
                        "colorbar": {
                          "outlinewidth": 0,
                          "ticks": ""
                        },
                        "colorscale": [
                          [
                            0,
                            "#0d0887"
                          ],
                          [
                            0.1111111111111111,
                            "#46039f"
                          ],
                          [
                            0.2222222222222222,
                            "#7201a8"
                          ],
                          [
                            0.3333333333333333,
                            "#9c179e"
                          ],
                          [
                            0.4444444444444444,
                            "#bd3786"
                          ],
                          [
                            0.5555555555555556,
                            "#d8576b"
                          ],
                          [
                            0.6666666666666666,
                            "#ed7953"
                          ],
                          [
                            0.7777777777777778,
                            "#fb9f3a"
                          ],
                          [
                            0.8888888888888888,
                            "#fdca26"
                          ],
                          [
                            1,
                            "#f0f921"
                          ]
                        ],
                        "type": "heatmap"
                      }
                    ],
                    "heatmapgl": [
                      {
                        "colorbar": {
                          "outlinewidth": 0,
                          "ticks": ""
                        },
                        "colorscale": [
                          [
                            0,
                            "#0d0887"
                          ],
                          [
                            0.1111111111111111,
                            "#46039f"
                          ],
                          [
                            0.2222222222222222,
                            "#7201a8"
                          ],
                          [
                            0.3333333333333333,
                            "#9c179e"
                          ],
                          [
                            0.4444444444444444,
                            "#bd3786"
                          ],
                          [
                            0.5555555555555556,
                            "#d8576b"
                          ],
                          [
                            0.6666666666666666,
                            "#ed7953"
                          ],
                          [
                            0.7777777777777778,
                            "#fb9f3a"
                          ],
                          [
                            0.8888888888888888,
                            "#fdca26"
                          ],
                          [
                            1,
                            "#f0f921"
                          ]
                        ],
                        "type": "heatmapgl"
                      }
                    ],
                    "histogram": [
                      {
                        "marker": {
                          "pattern": {
                            "fillmode": "overlay",
                            "size": 10,
                            "solidity": 0.2
                          }
                        },
                        "type": "histogram"
                      }
                    ],
                    "histogram2d": [
                      {
                        "colorbar": {
                          "outlinewidth": 0,
                          "ticks": ""
                        },
                        "colorscale": [
                          [
                            0,
                            "#0d0887"
                          ],
                          [
                            0.1111111111111111,
                            "#46039f"
                          ],
                          [
                            0.2222222222222222,
                            "#7201a8"
                          ],
                          [
                            0.3333333333333333,
                            "#9c179e"
                          ],
                          [
                            0.4444444444444444,
                            "#bd3786"
                          ],
                          [
                            0.5555555555555556,
                            "#d8576b"
                          ],
                          [
                            0.6666666666666666,
                            "#ed7953"
                          ],
                          [
                            0.7777777777777778,
                            "#fb9f3a"
                          ],
                          [
                            0.8888888888888888,
                            "#fdca26"
                          ],
                          [
                            1,
                            "#f0f921"
                          ]
                        ],
                        "type": "histogram2d"
                      }
                    ],
                    "histogram2dcontour": [
                      {
                        "colorbar": {
                          "outlinewidth": 0,
                          "ticks": ""
                        },
                        "colorscale": [
                          [
                            0,
                            "#0d0887"
                          ],
                          [
                            0.1111111111111111,
                            "#46039f"
                          ],
                          [
                            0.2222222222222222,
                            "#7201a8"
                          ],
                          [
                            0.3333333333333333,
                            "#9c179e"
                          ],
                          [
                            0.4444444444444444,
                            "#bd3786"
                          ],
                          [
                            0.5555555555555556,
                            "#d8576b"
                          ],
                          [
                            0.6666666666666666,
                            "#ed7953"
                          ],
                          [
                            0.7777777777777778,
                            "#fb9f3a"
                          ],
                          [
                            0.8888888888888888,
                            "#fdca26"
                          ],
                          [
                            1,
                            "#f0f921"
                          ]
                        ],
                        "type": "histogram2dcontour"
                      }
                    ],
                    "mesh3d": [
                      {
                        "colorbar": {
                          "outlinewidth": 0,
                          "ticks": ""
                        },
                        "type": "mesh3d"
                      }
                    ],
                    "parcoords": [
                      {
                        "line": {
                          "colorbar": {
                            "outlinewidth": 0,
                            "ticks": ""
                          }
                        },
                        "type": "parcoords"
                      }
                    ],
                    "pie": [
                      {
                        "automargin": true,
                        "type": "pie"
                      }
                    ],
                    "scatter": [
                      {
                        "fillpattern": {
                          "fillmode": "overlay",
                          "size": 10,
                          "solidity": 0.2
                        },
                        "type": "scatter"
                      }
                    ],
                    "scatter3d": [
                      {
                        "line": {
                          "colorbar": {
                            "outlinewidth": 0,
                            "ticks": ""
                          }
                        },
                        "marker": {
                          "colorbar": {
                            "outlinewidth": 0,
                            "ticks": ""
                          }
                        },
                        "type": "scatter3d"
                      }
                    ],
                    "scattercarpet": [
                      {
                        "marker": {
                          "colorbar": {
                            "outlinewidth": 0,
                            "ticks": ""
                          }
                        },
                        "type": "scattercarpet"
                      }
                    ],
                    "scattergeo": [
                      {
                        "marker": {
                          "colorbar": {
                            "outlinewidth": 0,
                            "ticks": ""
                          }
                        },
                        "type": "scattergeo"
                      }
                    ],
                    "scattergl": [
                      {
                        "marker": {
                          "colorbar": {
                            "outlinewidth": 0,
                            "ticks": ""
                          }
                        },
                        "type": "scattergl"
                      }
                    ],
                    "scattermapbox": [
                      {
                        "marker": {
                          "colorbar": {
                            "outlinewidth": 0,
                            "ticks": ""
                          }
                        },
                        "type": "scattermapbox"
                      }
                    ],
                    "scatterpolar": [
                      {
                        "marker": {
                          "colorbar": {
                            "outlinewidth": 0,
                            "ticks": ""
                          }
                        },
                        "type": "scatterpolar"
                      }
                    ],
                    "scatterpolargl": [
                      {
                        "marker": {
                          "colorbar": {
                            "outlinewidth": 0,
                            "ticks": ""
                          }
                        },
                        "type": "scatterpolargl"
                      }
                    ],
                    "scatterternary": [
                      {
                        "marker": {
                          "colorbar": {
                            "outlinewidth": 0,
                            "ticks": ""
                          }
                        },
                        "type": "scatterternary"
                      }
                    ],
                    "surface": [
                      {
                        "colorbar": {
                          "outlinewidth": 0,
                          "ticks": ""
                        },
                        "colorscale": [
                          [
                            0,
                            "#0d0887"
                          ],
                          [
                            0.1111111111111111,
                            "#46039f"
                          ],
                          [
                            0.2222222222222222,
                            "#7201a8"
                          ],
                          [
                            0.3333333333333333,
                            "#9c179e"
                          ],
                          [
                            0.4444444444444444,
                            "#bd3786"
                          ],
                          [
                            0.5555555555555556,
                            "#d8576b"
                          ],
                          [
                            0.6666666666666666,
                            "#ed7953"
                          ],
                          [
                            0.7777777777777778,
                            "#fb9f3a"
                          ],
                          [
                            0.8888888888888888,
                            "#fdca26"
                          ],
                          [
                            1,
                            "#f0f921"
                          ]
                        ],
                        "type": "surface"
                      }
                    ],
                    "table": [
                      {
                        "cells": {
                          "fill": {
                            "color": "#EBF0F8"
                          },
                          "line": {
                            "color": "white"
                          }
                        },
                        "header": {
                          "fill": {
                            "color": "#C8D4E3"
                          },
                          "line": {
                            "color": "white"
                          }
                        },
                        "type": "table"
                      }
                    ]
                  },
                  "layout": {
                    "annotationdefaults": {
                      "arrowcolor": "#2a3f5f",
                      "arrowhead": 0,
                      "arrowwidth": 1
                    },
                    "autotypenumbers": "strict",
                    "coloraxis": {
                      "colorbar": {
                        "outlinewidth": 0,
                        "ticks": ""
                      }
                    },
                    "colorscale": {
                      "diverging": [
                        [
                          0,
                          "#8e0152"
                        ],
                        [
                          0.1,
                          "#c51b7d"
                        ],
                        [
                          0.2,
                          "#de77ae"
                        ],
                        [
                          0.3,
                          "#f1b6da"
                        ],
                        [
                          0.4,
                          "#fde0ef"
                        ],
                        [
                          0.5,
                          "#f7f7f7"
                        ],
                        [
                          0.6,
                          "#e6f5d0"
                        ],
                        [
                          0.7,
                          "#b8e186"
                        ],
                        [
                          0.8,
                          "#7fbc41"
                        ],
                        [
                          0.9,
                          "#4d9221"
                        ],
                        [
                          1,
                          "#276419"
                        ]
                      ],
                      "sequential": [
                        [
                          0,
                          "#0d0887"
                        ],
                        [
                          0.1111111111111111,
                          "#46039f"
                        ],
                        [
                          0.2222222222222222,
                          "#7201a8"
                        ],
                        [
                          0.3333333333333333,
                          "#9c179e"
                        ],
                        [
                          0.4444444444444444,
                          "#bd3786"
                        ],
                        [
                          0.5555555555555556,
                          "#d8576b"
                        ],
                        [
                          0.6666666666666666,
                          "#ed7953"
                        ],
                        [
                          0.7777777777777778,
                          "#fb9f3a"
                        ],
                        [
                          0.8888888888888888,
                          "#fdca26"
                        ],
                        [
                          1,
                          "#f0f921"
                        ]
                      ],
                      "sequentialminus": [
                        [
                          0,
                          "#0d0887"
                        ],
                        [
                          0.1111111111111111,
                          "#46039f"
                        ],
                        [
                          0.2222222222222222,
                          "#7201a8"
                        ],
                        [
                          0.3333333333333333,
                          "#9c179e"
                        ],
                        [
                          0.4444444444444444,
                          "#bd3786"
                        ],
                        [
                          0.5555555555555556,
                          "#d8576b"
                        ],
                        [
                          0.6666666666666666,
                          "#ed7953"
                        ],
                        [
                          0.7777777777777778,
                          "#fb9f3a"
                        ],
                        [
                          0.8888888888888888,
                          "#fdca26"
                        ],
                        [
                          1,
                          "#f0f921"
                        ]
                      ]
                    },
                    "colorway": [
                      "#636efa",
                      "#EF553B",
                      "#00cc96",
                      "#ab63fa",
                      "#FFA15A",
                      "#19d3f3",
                      "#FF6692",
                      "#B6E880",
                      "#FF97FF",
                      "#FECB52"
                    ],
                    "font": {
                      "color": "#2a3f5f"
                    },
                    "geo": {
                      "bgcolor": "white",
                      "lakecolor": "white",
                      "landcolor": "#E5ECF6",
                      "showlakes": true,
                      "showland": true,
                      "subunitcolor": "white"
                    },
                    "hoverlabel": {
                      "align": "left"
                    },
                    "hovermode": "closest",
                    "mapbox": {
                      "style": "light"
                    },
                    "paper_bgcolor": "white",
                    "plot_bgcolor": "#E5ECF6",
                    "polar": {
                      "angularaxis": {
                        "gridcolor": "white",
                        "linecolor": "white",
                        "ticks": ""
                      },
                      "bgcolor": "#E5ECF6",
                      "radialaxis": {
                        "gridcolor": "white",
                        "linecolor": "white",
                        "ticks": ""
                      }
                    },
                    "scene": {
                      "xaxis": {
                        "backgroundcolor": "#E5ECF6",
                        "gridcolor": "white",
                        "gridwidth": 2,
                        "linecolor": "white",
                        "showbackground": true,
                        "ticks": "",
                        "zerolinecolor": "white"
                      },
                      "yaxis": {
                        "backgroundcolor": "#E5ECF6",
                        "gridcolor": "white",
                        "gridwidth": 2,
                        "linecolor": "white",
                        "showbackground": true,
                        "ticks": "",
                        "zerolinecolor": "white"
                      },
                      "zaxis": {
                        "backgroundcolor": "#E5ECF6",
                        "gridcolor": "white",
                        "gridwidth": 2,
                        "linecolor": "white",
                        "showbackground": true,
                        "ticks": "",
                        "zerolinecolor": "white"
                      }
                    },
                    "shapedefaults": {
                      "line": {
                        "color": "#2a3f5f"
                      }
                    },
                    "ternary": {
                      "aaxis": {
                        "gridcolor": "white",
                        "linecolor": "white",
                        "ticks": ""
                      },
                      "baxis": {
                        "gridcolor": "white",
                        "linecolor": "white",
                        "ticks": ""
                      },
                      "bgcolor": "#E5ECF6",
                      "caxis": {
                        "gridcolor": "white",
                        "linecolor": "white",
                        "ticks": ""
                      }
                    },
                    "title": {
                      "x": 0.05
                    },
                    "xaxis": {
                      "automargin": true,
                      "gridcolor": "white",
                      "linecolor": "white",
                      "ticks": "",
                      "title": {
                        "standoff": 15
                      },
                      "zerolinecolor": "white",
                      "zerolinewidth": 2
                    },
                    "yaxis": {
                      "automargin": true,
                      "gridcolor": "white",
                      "linecolor": "white",
                      "ticks": "",
                      "title": {
                        "standoff": 15
                      },
                      "zerolinecolor": "white",
                      "zerolinewidth": 2
                    }
                  }
                },
                "title": {
                  "text": "top 10 countries with most population change"
                },
                "xaxis": {
                  "anchor": "y",
                  "domain": [
                    0,
                    1
                  ],
                  "title": {
                    "text": "population change"
                  }
                },
                "yaxis": {
                  "anchor": "x",
                  "domain": [
                    0,
                    1
                  ],
                  "title": {
                    "text": "Country"
                  }
                }
              }
            }
          },
          "metadata": {},
          "output_type": "display_data"
        }
      ],
      "source": [
        "#population change\n",
        "df['population change'] = df['Population 2024'] - df['Population 2023']\n",
        "fig = px.bar(df.nlargest(10,'population change').sort_values(by= 'population change'),\n",
        "             x = 'population change', y = 'Country', color = 'Growth Rate',\n",
        "             barmode = 'relative',\n",
        "             title= \"top 10 countries with most population change\")\n",
        "fig.show()"
      ]
    },
    {
      "cell_type": "code",
      "execution_count": 9,
      "metadata": {
        "colab": {
          "base_uri": "https://localhost:8080/",
          "height": 542
        },
        "id": "Efx5s7CUYYO_",
        "outputId": "a6f1cd76-4d52-4b97-f6df-7d31ccf39144"
      },
      "outputs": [
        {
          "data": {
            "application/vnd.plotly.v1+json": {
              "config": {
                "plotlyServerURL": "https://plot.ly"
              },
              "data": [
                {
                  "customdata": [
                    [
                      1441719852,
                      1428627663,
                      3000000,
                      485,
                      0.1801
                    ],
                    [
                      1425178782,
                      1425671352,
                      9400000,
                      151,
                      0.178
                    ],
                    [
                      341814420,
                      339996563,
                      9100000,
                      37,
                      0.0427
                    ],
                    [
                      279798049,
                      277534122,
                      1900000,
                      149,
                      0.035
                    ],
                    [
                      245209815,
                      240485658,
                      770900,
                      318,
                      0.0306
                    ],
                    [
                      229152217,
                      223804632,
                      910800,
                      252,
                      0.0286
                    ],
                    [
                      217637297,
                      216422446,
                      8400000,
                      26,
                      0.0272
                    ],
                    [
                      174701211,
                      172954319,
                      130199.99999999999,
                      1342,
                      0.0218
                    ],
                    [
                      143957079,
                      144444359,
                      16399999.999999998,
                      9,
                      0.018
                    ],
                    [
                      129719719,
                      126527060,
                      1100000,
                      115,
                      0.0162
                    ],
                    [
                      129388467,
                      128455567,
                      1900000,
                      67,
                      0.0162
                    ],
                    [
                      122631432,
                      123294513,
                      364500,
                      336,
                      0.0153
                    ],
                    [
                      119106224,
                      117337368,
                      298200,
                      399,
                      0.0149
                    ],
                    [
                      114484252,
                      112716598,
                      1000000,
                      115,
                      0.0143
                    ],
                    [
                      105625114,
                      102262808,
                      2300000,
                      47,
                      0.0132
                    ],
                    [
                      99497680,
                      98858950,
                      313400,
                      317,
                      0.0124
                    ],
                    [
                      89809781,
                      89172767,
                      1600000,
                      55,
                      0.0112
                    ],
                    [
                      86260417,
                      85816199,
                      783600,
                      110,
                      0.0108
                    ],
                    [
                      83252474,
                      83294633,
                      349400,
                      238,
                      0.0104
                    ],
                    [
                      71885799,
                      71801279,
                      510900,
                      141,
                      0.009
                    ],
                    [
                      69419073,
                      67438106,
                      885800,
                      78,
                      0.0087
                    ],
                    [
                      67961439,
                      67736802,
                      241900,
                      281,
                      0.0085
                    ],
                    [
                      64881830,
                      64756584,
                      547600,
                      118,
                      0.0081
                    ],
                    [
                      61020221,
                      60414495,
                      1200000,
                      50,
                      0.0076
                    ],
                    [
                      58697744,
                      58870762,
                      295700,
                      198,
                      0.0073
                    ],
                    [
                      56203030,
                      55100586,
                      569100,
                      99,
                      0.007
                    ],
                    [
                      54964694,
                      54577997,
                      652700,
                      84,
                      0.0069
                    ],
                    [
                      52340774,
                      52085168,
                      1100000,
                      47,
                      0.0065
                    ],
                    [
                      51741963,
                      51784059,
                      97600,
                      530,
                      0.0065
                    ],
                    [
                      49924252,
                      48582334,
                      200500,
                      249,
                      0.0062
                    ],
                    [
                      49358228,
                      48109006,
                      1900000,
                      26,
                      0.0062
                    ],
                    [
                      47473373,
                      47519628,
                      499600,
                      95,
                      0.0059
                    ],
                    [
                      46523657,
                      45504560,
                      434100,
                      107,
                      0.0058
                    ],
                    [
                      46278751,
                      45606480,
                      2400000,
                      19,
                      0.0058
                    ],
                    [
                      46057866,
                      45773884,
                      2700000,
                      17,
                      0.0058
                    ],
                    [
                      43372950,
                      42239854,
                      652200,
                      66,
                      0.0054
                    ],
                    [
                      40221726,
                      41026067,
                      306100,
                      131,
                      0.005
                    ],
                    [
                      39107046,
                      38781291,
                      9000000,
                      4,
                      0.0049
                    ],
                    [
                      38211459,
                      37840044,
                      446300,
                      86,
                      0.0048
                    ],
                    [
                      37937821,
                      36744634,
                      579400,
                      65,
                      0.0047
                    ],
                    [
                      37804634,
                      36684202,
                      1200000,
                      30,
                      0.0047
                    ],
                    [
                      37473929,
                      36947025,
                      2100000,
                      17,
                      0.0047
                    ],
                    [
                      35673804,
                      35163944,
                      440600,
                      81,
                      0.0045
                    ],
                    [
                      35219853,
                      34449825,
                      528000,
                      67,
                      0.0044
                    ],
                    [
                      34858402,
                      33897354,
                      786400,
                      44,
                      0.0044
                    ],
                    [
                      34777522,
                      34121985,
                      227500,
                      153,
                      0.0043
                    ],
                    [
                      34683444,
                      34352719,
                      1300000,
                      27,
                      0.0043
                    ],
                    [
                      34671895,
                      34308525,
                      328600,
                      106,
                      0.0043
                    ],
                    [
                      31240315,
                      30896590,
                      143300,
                      218,
                      0.0039
                    ],
                    [
                      31056610,
                      30325732,
                      581800,
                      53,
                      0.0039
                    ],
                    [
                      29603302,
                      28873034,
                      318000,
                      93,
                      0.0037
                    ],
                    [
                      29395334,
                      28838499,
                      882000,
                      33,
                      0.0037
                    ],
                    [
                      29394433,
                      28647293,
                      472700,
                      62,
                      0.0037
                    ],
                    [
                      28238972,
                      27202843,
                      1300000,
                      22,
                      0.0035
                    ],
                    [
                      26699482,
                      26439111,
                      7700000,
                      3,
                      0.0033
                    ],
                    [
                      26244582,
                      26160821,
                      120400,
                      218,
                      0.0033
                    ],
                    [
                      24348053,
                      23227014,
                      183600,
                      133,
                      0.003
                    ],
                    [
                      24015789,
                      23293698,
                      1200000,
                      20,
                      0.003
                    ],
                    [
                      23950214,
                      23923276,
                      36200,
                      662,
                      0.003
                    ],
                    [
                      23840247,
                      23251485,
                      273600,
                      87,
                      0.003
                    ],
                    [
                      21949268,
                      21893579,
                      61900,
                      355,
                      0.0027
                    ],
                    [
                      21475962,
                      20931751,
                      94300,
                      228,
                      0.0027
                    ],
                    [
                      21134695,
                      20569737,
                      743400,
                      28,
                      0.0026
                    ],
                    [
                      19828165,
                      19606633,
                      2700000,
                      7,
                      0.0025
                    ],
                    [
                      19658839,
                      19629590,
                      743500,
                      26,
                      0.0025
                    ],
                    [
                      19618996,
                      19892812,
                      230100,
                      85,
                      0.0025
                    ],
                    [
                      18847148,
                      18278568,
                      1300000,
                      15,
                      0.0024
                    ],
                    [
                      18706922,
                      18143378,
                      627300,
                      30,
                      0.0023
                    ],
                    [
                      18377367,
                      18190484,
                      248400,
                      74,
                      0.0023
                    ],
                    [
                      18358430,
                      18092026,
                      107200,
                      171,
                      0.0023
                    ],
                    [
                      18221567,
                      17763163,
                      192500,
                      95,
                      0.0023
                    ],
                    [
                      17671125,
                      17618299,
                      33700,
                      525,
                      0.0022
                    ],
                    [
                      17121847,
                      16944826,
                      176500,
                      97,
                      0.0021
                    ],
                    [
                      17020321,
                      16665409,
                      386900,
                      44,
                      0.0021
                    ],
                    [
                      14528770,
                      14190612,
                      245700,
                      59,
                      0.0018
                    ],
                    [
                      14414910,
                      14094683,
                      24700,
                      584,
                      0.0018
                    ],
                    [
                      14080072,
                      13712828,
                      112800,
                      125,
                      0.0018
                    ],
                    [
                      13591657,
                      13238559,
                      25700,
                      529,
                      0.0017
                    ],
                    [
                      12567336,
                      12388571,
                      1100000,
                      12,
                      0.0016
                    ],
                    [
                      12564689,
                      12458223,
                      155400,
                      81,
                      0.0016
                    ],
                    [
                      11867030,
                      11724763,
                      27600,
                      431,
                      0.0015
                    ],
                    [
                      11715774,
                      11686140,
                      30300,
                      387,
                      0.0015
                    ],
                    [
                      11434005,
                      11332972,
                      48300,
                      237,
                      0.0014
                    ],
                    [
                      11384922,
                      11337052,
                      88800,
                      128,
                      0.0014
                    ],
                    [
                      11277092,
                      11088796,
                      631900,
                      18,
                      0.0014
                    ],
                    [
                      11174587,
                      11194449,
                      103800,
                      108,
                      0.0014
                    ],
                    [
                      10759406,
                      10593798,
                      111900,
                      96,
                      0.0013
                    ],
                    [
                      10673669,
                      10612086,
                      407300,
                      26,
                      0.0013
                    ],
                    [
                      10515788,
                      10329931,
                      452900,
                      23,
                      0.0013
                    ],
                    [
                      10503734,
                      10495295,
                      77200,
                      136,
                      0.0013
                    ],
                    [
                      10462904,
                      10412651,
                      82600,
                      127,
                      0.0013
                    ],
                    [
                      10331513,
                      10143543,
                      138800,
                      74,
                      0.0013
                    ],
                    [
                      10302720,
                      10341277,
                      128900,
                      80,
                      0.0013
                    ],
                    [
                      10223349,
                      10247605,
                      91600,
                      112,
                      0.0013
                    ],
                    [
                      9994993,
                      10156239,
                      91300,
                      110,
                      0.0012
                    ],
                    [
                      9591853,
                      9516871,
                      71000,
                      135,
                      0.0012
                    ],
                    [
                      9455037,
                      9498238,
                      203000,
                      47,
                      0.0012
                    ],
                    [
                      9311652,
                      9174520,
                      21600,
                      430,
                      0.0012
                    ],
                    [
                      9260864,
                      9053799,
                      54400,
                      170,
                      0.0012
                    ],
                    [
                      8977972,
                      8791092,
                      72200,
                      124,
                      0.0011
                    ],
                    [
                      8977139,
                      8958960,
                      82500,
                      109,
                      0.0011
                    ],
                    [
                      8851431,
                      8796669,
                      39500,
                      224,
                      0.0011
                    ],
                    [
                      7736681,
                      7633779,
                      230800,
                      34,
                      0.001
                    ],
                    [
                      7496681,
                      7491609,
                      1100,
                      7140,
                      0.0009
                    ],
                    [
                      7142529,
                      7046310,
                      120300,
                      59,
                      0.0009
                    ],
                    [
                      7097028,
                      7149077,
                      87500,
                      81,
                      0.0009
                    ],
                    [
                      6964197,
                      6888388,
                      1800000,
                      4,
                      0.0009
                    ],
                    [
                      6947270,
                      6861524,
                      397300,
                      17,
                      0.0009
                    ],
                    [
                      6839606,
                      6735347,
                      191800,
                      36,
                      0.0009
                    ],
                    [
                      6618615,
                      6687717,
                      108600,
                      61,
                      0.0008
                    ],
                    [
                      6598071,
                      6516100,
                      469900,
                      14,
                      0.0008
                    ],
                    [
                      6396289,
                      6364943,
                      20700,
                      309,
                      0.0008
                    ],
                    [
                      6244547,
                      6106869,
                      341500,
                      18,
                      0.0008
                    ],
                    [
                      6052709,
                      6014723,
                      718,
                      8430,
                      0.0008
                    ],
                    [
                      5939695,
                      5910913,
                      40000,
                      148,
                      0.0007
                    ],
                    [
                      5915627,
                      5742315,
                      623000,
                      9,
                      0.0007
                    ],
                    [
                      5702832,
                      5795199,
                      49000,
                      116,
                      0.0007
                    ],
                    [
                      5549886,
                      5545475,
                      303900,
                      18,
                      0.0007
                    ],
                    [
                      5536949,
                      5418377,
                      96300,
                      57,
                      0.0007
                    ],
                    [
                      5514477,
                      5474360,
                      364300,
                      15,
                      0.0007
                    ],
                    [
                      5494963,
                      5371230,
                      6000,
                      913,
                      0.0007
                    ],
                    [
                      5269939,
                      5228100,
                      263300,
                      20,
                      0.0007
                    ],
                    [
                      5246714,
                      5212173,
                      51100,
                      103,
                      0.0007
                    ],
                    [
                      5219044,
                      5353930,
                      10200,
                      510,
                      0.0007
                    ],
                    [
                      5089478,
                      5056935,
                      68900,
                      74,
                      0.0006
                    ],
                    [
                      4993922,
                      4862989,
                      1000000,
                      5,
                      0.0006
                    ],
                    [
                      4713553,
                      4644384,
                      309500,
                      15,
                      0.0006
                    ],
                    [
                      4527961,
                      4468087,
                      74200,
                      61,
                      0.0006
                    ],
                    [
                      4349380,
                      4310108,
                      17800,
                      244,
                      0.0005
                    ],
                    [
                      3986627,
                      4008617,
                      56000,
                      71,
                      0.0005
                    ],
                    [
                      3817651,
                      3748901,
                      121000,
                      32,
                      0.0005
                    ],
                    [
                      3717425,
                      3728282,
                      69500,
                      53,
                      0.0005
                    ],
                    [
                      3493629,
                      3447157,
                      1600000,
                      2,
                      0.0004
                    ],
                    [
                      3423316,
                      3423108,
                      175000,
                      20,
                      0.0004
                    ],
                    [
                      3329865,
                      3435931,
                      32900,
                      101,
                      0.0004
                    ],
                    [
                      3268802,
                      3260314,
                      8900,
                      369,
                      0.0004
                    ],
                    [
                      3194378,
                      3210847,
                      51200,
                      62,
                      0.0004
                    ],
                    [
                      2841803,
                      2773168,
                      10100,
                      281,
                      0.0004
                    ],
                    [
                      2826020,
                      2832439,
                      27400,
                      103,
                      0.0004
                    ],
                    [
                      2824738,
                      2825544,
                      10800,
                      261,
                      0.0004
                    ],
                    [
                      2777979,
                      2777970,
                      28500,
                      98,
                      0.0003
                    ],
                    [
                      2737061,
                      2716391,
                      11500,
                      238,
                      0.0003
                    ],
                    [
                      2719694,
                      2675352,
                      566700,
                      5,
                      0.0003
                    ],
                    [
                      2692798,
                      2718352,
                      62600,
                      43,
                      0.0003
                    ],
                    [
                      2645805,
                      2604172,
                      823300,
                      3,
                      0.0003
                    ],
                    [
                      2484557,
                      2436566,
                      257700,
                      10,
                      0.0003
                    ],
                    [
                      2356083,
                      2330318,
                      30400,
                      78,
                      0.0003
                    ],
                    [
                      2197149,
                      2150842,
                      28100,
                      78,
                      0.0003
                    ],
                    [
                      2118965,
                      2119675,
                      20100,
                      105,
                      0.0003
                    ],
                    [
                      2082706,
                      2085679,
                      25200,
                      83,
                      0.0003
                    ],
                    [
                      1810240,
                      1830211,
                      62200,
                      29,
                      0.0002
                    ],
                    [
                      1754993,
                      1714671,
                      28100,
                      63,
                      0.0002
                    ],
                    [
                      1538200,
                      1534937,
                      5100,
                      300,
                      0.0002
                    ],
                    [
                      1498712,
                      1485509,
                      785,
                      1909,
                      0.0002
                    ],
                    [
                      1379883,
                      1360596,
                      14900,
                      93,
                      0.0002
                    ],
                    [
                      1319041,
                      1322765,
                      42800,
                      31,
                      0.0002
                    ],
                    [
                      1301978,
                      1300557,
                      2000,
                      641,
                      0.0002
                    ],
                    [
                      1268467,
                      1260138,
                      9200,
                      137,
                      0.0002
                    ],
                    [
                      1222075,
                      1210822,
                      17200,
                      71,
                      0.0002
                    ],
                    [
                      1152329,
                      1136455,
                      23200,
                      50,
                      0.0001
                    ],
                    [
                      989350,
                      981796,
                      2500,
                      394,
                      0.0001
                    ],
                    [
                      943072,
                      936375,
                      18300,
                      52,
                      0.0001
                    ],
                    [
                      867605,
                      852075,
                      1900,
                      466,
                      0.0001
                    ],
                    [
                      819594,
                      813834,
                      196800,
                      4,
                      0.0001
                    ],
                    [
                      792382,
                      787424,
                      38100,
                      21,
                      0.0001
                    ],
                    [
                      756673,
                      740424,
                      28000,
                      27,
                      0.0001
                    ],
                    [
                      713082,
                      704149,
                      33,
                      21674,
                      0.0001
                    ],
                    [
                      661594,
                      654768,
                      2600,
                      257,
                      0.0001
                    ],
                    [
                      628785,
                      623236,
                      156000,
                      4,
                      0.0001
                    ],
                    [
                      626102,
                      626485,
                      13400,
                      47,
                      0.0001
                    ],
                    [
                      604461,
                      598682,
                      4000,
                      150,
                      0.0001
                    ],
                    [
                      598385,
                      587259,
                      266000,
                      2,
                      0.0001
                    ],
                    [
                      536740,
                      535064,
                      320,
                      1677,
                      0.0001
                    ],
                    [
                      517887,
                      521021,
                      300,
                      1726,
                      0.0001
                    ],
                    [
                      455858,
                      452524,
                      5300,
                      87,
                      0.0001
                    ],
                    [
                      416656,
                      410825,
                      22800,
                      18,
                      0.0001
                    ],
                    [
                      415223,
                      412623,
                      10000,
                      41,
                      0.0001
                    ],
                    [
                      396346,
                      395839,
                      1600,
                      243,
                      0
                    ],
                    [
                      377689,
                      375318,
                      100800,
                      4,
                      0
                    ],
                    [
                      366416,
                      366981,
                      1100,
                      325,
                      0
                    ],
                    [
                      345996,
                      335995,
                      374,
                      925,
                      0
                    ],
                    [
                      342325,
                      334506,
                      12200,
                      28,
                      0
                    ],
                    [
                      319796,
                      312155,
                      83500,
                      4,
                      0
                    ],
                    [
                      311383,
                      308872,
                      3500,
                      90,
                      0
                    ],
                    [
                      295966,
                      292991,
                      18300,
                      16,
                      0
                    ],
                    [
                      282309,
                      281995,
                      430,
                      657,
                      0
                    ],
                    [
                      236381,
                      231856,
                      960,
                      246,
                      0
                    ],
                    [
                      228966,
                      225681,
                      2800,
                      82,
                      0
                    ],
                    [
                      192965,
                      192077,
                      444,
                      435,
                      0
                    ],
                    [
                      180805,
                      180251,
                      610,
                      296,
                      0
                    ],
                    [
                      174114,
                      172952,
                      540,
                      322,
                      0
                    ],
                    [
                      135763,
                      133515,
                      810,
                      168,
                      0
                    ],
                    [
                      126887,
                      126183,
                      340,
                      373,
                      0
                    ],
                    [
                      116300,
                      115224,
                      700,
                      166,
                      0
                    ],
                    [
                      112843,
                      111802,
                      120,
                      940,
                      0
                    ],
                    [
                      108683,
                      107773,
                      720,
                      151,
                      0
                    ],
                    [
                      108263,
                      107660,
                      460,
                      235,
                      0
                    ],
                    [
                      106177,
                      106277,
                      180,
                      590,
                      0
                    ],
                    [
                      103683,
                      103698,
                      390,
                      266,
                      0
                    ],
                    [
                      98055,
                      98750,
                      347,
                      283,
                      0
                    ],
                    [
                      94816,
                      94298,
                      440,
                      215,
                      0
                    ],
                    [
                      84904,
                      84710,
                      570,
                      149,
                      0
                    ],
                    [
                      80341,
                      80088,
                      470,
                      171,
                      0
                    ],
                    [
                      73368,
                      73040,
                      750,
                      98,
                      0
                    ],
                    [
                      69885,
                      69310,
                      240,
                      291,
                      0
                    ],
                    [
                      63935,
                      64069,
                      54,
                      1184,
                      0
                    ],
                    [
                      63788,
                      63544,
                      63,
                      1013,
                      0
                    ],
                    [
                      56789,
                      56643,
                      410400,
                      0.14,
                      0
                    ],
                    [
                      53444,
                      53270,
                      1400,
                      39,
                      0
                    ],
                    [
                      50025,
                      49796,
                      460,
                      109,
                      0
                    ],
                    [
                      47847,
                      47755,
                      260,
                      184,
                      0
                    ],
                    [
                      46431,
                      46062,
                      948,
                      49,
                      0
                    ],
                    [
                      44309,
                      44222,
                      34,
                      1303,
                      0
                    ],
                    [
                      43544,
                      43914,
                      200,
                      218,
                      0
                    ],
                    [
                      42415,
                      41996,
                      180,
                      236,
                      0
                    ],
                    [
                      39822,
                      39584,
                      160,
                      249,
                      0
                    ],
                    [
                      36157,
                      36297,
                      2,
                      18079,
                      0
                    ],
                    [
                      33614,
                      33642,
                      60,
                      560,
                      0
                    ],
                    [
                      32718,
                      32688,
                      7,
                      4811,
                      0
                    ],
                    [
                      32337,
                      32077,
                      50,
                      647,
                      0
                    ],
                    [
                      31763,
                      31538,
                      150,
                      212,
                      0
                    ],
                    [
                      18051,
                      18058,
                      460,
                      39,
                      0
                    ],
                    [
                      17072,
                      17044,
                      240,
                      71,
                      0
                    ],
                    [
                      15936,
                      15899,
                      91,
                      175,
                      0
                    ],
                    [
                      12884,
                      12780,
                      20,
                      644,
                      0
                    ],
                    [
                      11478,
                      11396,
                      30,
                      383,
                      0
                    ],
                    [
                      11439,
                      11502,
                      274,
                      42,
                      0
                    ],
                    [
                      11019,
                      10994,
                      25,
                      441,
                      0
                    ],
                    [
                      5815,
                      5840,
                      242,
                      24,
                      0
                    ],
                    [
                      4372,
                      4386,
                      102,
                      43,
                      0
                    ],
                    [
                      3803,
                      3791,
                      12200,
                      0.31,
                      0
                    ],
                    [
                      1935,
                      1935,
                      261,
                      7,
                      0
                    ],
                    [
                      1915,
                      1893,
                      10,
                      192,
                      0
                    ],
                    [
                      526,
                      518,
                      1,
                      1195,
                      0
                    ]
                  ],
                  "hovertemplate": "<b>%{hovertext}</b><br><br>Growth Rate=%{x}<br>World Rank=%{y}<br>Population 2024=%{customdata[0]}<br>Population 2023=%{customdata[1]}<br>Area (km2)=%{customdata[2]}<br>Density (/km2)=%{marker.color}<br>World %=%{customdata[4]}<extra></extra>",
                  "hovertext": [
                    "India",
                    "China",
                    "United States",
                    "Indonesia",
                    "Pakistan",
                    "Nigeria",
                    "Brazil",
                    "Bangladesh",
                    "Russia",
                    "Ethiopia",
                    "Mexico",
                    "Japan",
                    "Philippines",
                    "Egypt",
                    "DR Congo",
                    "Vietnam",
                    "Iran",
                    "Turkey",
                    "Germany",
                    "Thailand",
                    "Tanzania",
                    "United Kingdom",
                    "France",
                    "South Africa",
                    "Italy",
                    "Kenya",
                    "Myanmar",
                    "Colombia",
                    "South Korea",
                    "Uganda",
                    "Sudan",
                    "Spain",
                    "Iraq",
                    "Algeria",
                    "Argentina",
                    "Afghanistan",
                    "Poland",
                    "Canada",
                    "Morocco",
                    "Ukraine",
                    "Angola",
                    "Saudi Arabia",
                    "Uzbekistan",
                    "Yemen",
                    "Mozambique",
                    "Ghana",
                    "Peru",
                    "Malaysia",
                    "Nepal",
                    "Madagascar",
                    "Ivory Coast",
                    "Venezuela",
                    "Cameroon",
                    "Niger",
                    "Australia",
                    "North Korea",
                    "Syria",
                    "Mali",
                    "Taiwan",
                    "Burkina Faso",
                    "Sri Lanka",
                    "Malawi",
                    "Zambia",
                    "Kazakhstan",
                    "Chile",
                    "Romania",
                    "Chad",
                    "Somalia",
                    "Ecuador",
                    "Guatemala",
                    "Senegal",
                    "Netherlands",
                    "Cambodia",
                    "Zimbabwe",
                    "Guinea",
                    "Rwanda",
                    "Benin",
                    "Burundi",
                    "Bolivia",
                    "Tunisia",
                    "Haiti",
                    "Belgium",
                    "Dominican Republic",
                    "Jordan",
                    "South Sudan",
                    "Cuba",
                    "Honduras",
                    "Sweden",
                    "Papua New Guinea",
                    "Czech Republic",
                    "Azerbaijan",
                    "Tajikistan",
                    "Greece",
                    "Portugal",
                    "Hungary",
                    "United Arab Emirates",
                    "Belarus",
                    "Israel",
                    "Togo",
                    "Sierra Leone",
                    "Austria",
                    "Switzerland",
                    "Laos",
                    "Hong Kong",
                    "Nicaragua",
                    "Serbia",
                    "Libya",
                    "Paraguay",
                    "Kyrgyzstan",
                    "Bulgaria",
                    "Turkmenistan",
                    "El Salvador",
                    "Republic of the Congo",
                    "Singapore",
                    "Denmark",
                    "Central African Republic",
                    "Slovakia",
                    "Finland",
                    "Liberia",
                    "Norway",
                    "Palestine",
                    "New Zealand",
                    "Costa Rica",
                    "Lebanon",
                    "Ireland",
                    "Mauritania",
                    "Oman",
                    "Panama",
                    "Kuwait",
                    "Croatia",
                    "Eritrea",
                    "Georgia",
                    "Mongolia",
                    "Uruguay",
                    "Moldova",
                    "Puerto Rico",
                    "Bosnia and Herzegovina",
                    "Gambia",
                    "Albania",
                    "Jamaica",
                    "Armenia",
                    "Qatar",
                    "Botswana",
                    "Lithuania",
                    "Namibia",
                    "Gabon",
                    "Lesotho",
                    "Guinea Bissau",
                    "Slovenia",
                    "North Macedonia",
                    "Latvia",
                    "Equatorial Guinea",
                    "Trinidad and Tobago",
                    "Bahrain",
                    "Timor Leste",
                    "Estonia",
                    "Mauritius",
                    "Cyprus",
                    "Eswatini",
                    "Djibouti",
                    "Reunion",
                    "Fiji",
                    "Comoros",
                    "Guyana",
                    "Bhutan",
                    "Solomon Islands",
                    "Macau",
                    "Luxembourg",
                    "Suriname",
                    "Montenegro",
                    "Cape Verde",
                    "Western Sahara",
                    "Malta",
                    "Maldives",
                    "Brunei",
                    "Belize",
                    "Bahamas",
                    "Guadeloupe",
                    "Iceland",
                    "Martinique",
                    "Mayotte",
                    "Vanuatu",
                    "French Guiana",
                    "French Polynesia",
                    "New Caledonia",
                    "Barbados",
                    "Sao Tome and Principe",
                    "Samoa",
                    "Curacao",
                    "Saint Lucia",
                    "Guam",
                    "Kiribati",
                    "Grenada",
                    "Micronesia",
                    "Jersey",
                    "Tonga",
                    "Seychelles",
                    "Aruba",
                    "Saint Vincent and the Grenadines",
                    "United States Virgin Islands",
                    "Antigua and Barbuda",
                    "Isle of Man",
                    "Andorra",
                    "Dominica",
                    "Cayman Islands",
                    "Bermuda",
                    "Guernsey",
                    "Greenland",
                    "Faroe Islands",
                    "Northern Mariana Islands",
                    "Saint Kitts and Nevis",
                    "Turks and Caicos Islands",
                    "Sint Maarten",
                    "American Samoa",
                    "Marshall Islands",
                    "Liechtenstein",
                    "Monaco",
                    "San Marino",
                    "Gibraltar",
                    "Saint Martin",
                    "British Virgin Islands",
                    "Palau",
                    "Cook Islands",
                    "Anguilla",
                    "Nauru",
                    "Tuvalu",
                    "Wallis and Futuna",
                    "Saint Barthelemy",
                    "Saint Pierre and Miquelon",
                    "Montserrat",
                    "Falkland Islands",
                    "Niue",
                    "Tokelau",
                    "Vatican City"
                  ],
                  "legendgroup": "",
                  "marker": {
                    "color": [
                      485,
                      151,
                      37,
                      149,
                      318,
                      252,
                      26,
                      1342,
                      9,
                      115,
                      67,
                      336,
                      399,
                      115,
                      47,
                      317,
                      55,
                      110,
                      238,
                      141,
                      78,
                      281,
                      118,
                      50,
                      198,
                      99,
                      84,
                      47,
                      530,
                      249,
                      26,
                      95,
                      107,
                      19,
                      17,
                      66,
                      131,
                      4,
                      86,
                      65,
                      30,
                      17,
                      81,
                      67,
                      44,
                      153,
                      27,
                      106,
                      218,
                      53,
                      93,
                      33,
                      62,
                      22,
                      3,
                      218,
                      133,
                      20,
                      662,
                      87,
                      355,
                      228,
                      28,
                      7,
                      26,
                      85,
                      15,
                      30,
                      74,
                      171,
                      95,
                      525,
                      97,
                      44,
                      59,
                      584,
                      125,
                      529,
                      12,
                      81,
                      431,
                      387,
                      237,
                      128,
                      18,
                      108,
                      96,
                      26,
                      23,
                      136,
                      127,
                      74,
                      80,
                      112,
                      110,
                      135,
                      47,
                      430,
                      170,
                      124,
                      109,
                      224,
                      34,
                      7140,
                      59,
                      81,
                      4,
                      17,
                      36,
                      61,
                      14,
                      309,
                      18,
                      8430,
                      148,
                      9,
                      116,
                      18,
                      57,
                      15,
                      913,
                      20,
                      103,
                      510,
                      74,
                      5,
                      15,
                      61,
                      244,
                      71,
                      32,
                      53,
                      2,
                      20,
                      101,
                      369,
                      62,
                      281,
                      103,
                      261,
                      98,
                      238,
                      5,
                      43,
                      3,
                      10,
                      78,
                      78,
                      105,
                      83,
                      29,
                      63,
                      300,
                      1909,
                      93,
                      31,
                      641,
                      137,
                      71,
                      50,
                      394,
                      52,
                      466,
                      4,
                      21,
                      27,
                      21674,
                      257,
                      4,
                      47,
                      150,
                      2,
                      1677,
                      1726,
                      87,
                      18,
                      41,
                      243,
                      4,
                      325,
                      925,
                      28,
                      4,
                      90,
                      16,
                      657,
                      246,
                      82,
                      435,
                      296,
                      322,
                      168,
                      373,
                      166,
                      940,
                      151,
                      235,
                      590,
                      266,
                      283,
                      215,
                      149,
                      171,
                      98,
                      291,
                      1184,
                      1013,
                      0.14,
                      39,
                      109,
                      184,
                      49,
                      1303,
                      218,
                      236,
                      249,
                      18079,
                      560,
                      4811,
                      647,
                      212,
                      39,
                      71,
                      175,
                      644,
                      383,
                      42,
                      441,
                      24,
                      43,
                      0.31,
                      7,
                      192,
                      1195
                    ],
                    "coloraxis": "coloraxis",
                    "symbol": "circle"
                  },
                  "mode": "markers",
                  "name": "",
                  "orientation": "v",
                  "showlegend": false,
                  "type": "scatter",
                  "x": [
                    0.0092,
                    -0.0003,
                    0.0053,
                    0.0082,
                    0.0196,
                    0.0239,
                    0.0056,
                    0.0101,
                    -0.0034,
                    0.0252,
                    0.0073,
                    -0.0054,
                    0.0151,
                    0.0157,
                    0.0329,
                    0.0065,
                    0.0071,
                    0.0052,
                    -0.0005,
                    0.0012,
                    0.0294,
                    0.0033,
                    0.0019,
                    0.01,
                    -0.0029,
                    0.02,
                    0.0071,
                    0.0049,
                    -0.0008,
                    0.0276,
                    0.026,
                    -0.001,
                    0.0224,
                    0.0147,
                    0.0062,
                    0.0268,
                    -0.0196,
                    0.0084,
                    0.0098,
                    0.0325,
                    0.0305,
                    0.0143,
                    0.0145,
                    0.0224,
                    0.0284,
                    0.0192,
                    0.0096,
                    0.0106,
                    0.0111,
                    0.0241,
                    0.0253,
                    0.0193,
                    0.0261,
                    0.0381,
                    0.0098,
                    0.0032,
                    0.0483,
                    0.031,
                    0.0011,
                    0.0253,
                    0.0025,
                    0.026,
                    0.0275,
                    0.0113,
                    0.0015,
                    -0.0138,
                    0.0311,
                    0.0311,
                    0.0103,
                    0.0147,
                    0.0258,
                    0.003,
                    0.0104,
                    0.0213,
                    0.0238,
                    0.0227,
                    0.0268,
                    0.0267,
                    0.0144,
                    0.0085,
                    0.0121,
                    0.0025,
                    0.0089,
                    0.0042,
                    0.017,
                    -0.0018,
                    0.0156,
                    0.0058,
                    0.018,
                    0.0008,
                    0.0048,
                    0.0185,
                    -0.0037,
                    -0.0024,
                    -0.0159,
                    0.0079,
                    -0.0045,
                    0.0149,
                    0.0229,
                    0.0213,
                    0.002,
                    0.0062,
                    0.0135,
                    0.0007,
                    0.0137,
                    -0.0073,
                    0.011,
                    0.0125,
                    0.0155,
                    -0.0103,
                    0.0126,
                    0.0049,
                    0.0225,
                    0.0063,
                    0.0049,
                    0.0302,
                    -0.0159,
                    0.0008,
                    0.0219,
                    0.0073,
                    0.023,
                    0.008,
                    0.0066,
                    -0.0252,
                    0.0064,
                    0.0269,
                    0.0149,
                    0.0134,
                    0.0091,
                    -0.0055,
                    0.0183,
                    -0.0029,
                    0.0135,
                    0.0001,
                    -0.0309,
                    0.0026,
                    -0.0051,
                    0.0247,
                    -0.0023,
                    -0.0003,
                    0,
                    0.0076,
                    0.0166,
                    -0.0094,
                    0.016,
                    0.0197,
                    0.0111,
                    0.0215,
                    -0.0003,
                    -0.0014,
                    -0.0109,
                    0.0235,
                    0.0021,
                    0.0089,
                    0.0142,
                    -0.0028,
                    0.0011,
                    0.0066,
                    0.0093,
                    0.014,
                    0.0077,
                    0.0072,
                    0.0182,
                    0.0071,
                    0.0063,
                    0.0219,
                    0.0127,
                    0.0104,
                    0.0089,
                    -0.0006,
                    0.0097,
                    0.0189,
                    0.0031,
                    -0.006,
                    0.0074,
                    0.0142,
                    0.0063,
                    0.0013,
                    0.0063,
                    -0.0015,
                    0.0298,
                    0.0234,
                    0.0245,
                    0.0081,
                    0.0102,
                    0.0011,
                    0.0195,
                    0.0146,
                    0.0046,
                    0.0031,
                    0.0067,
                    0.0168,
                    0.0056,
                    0.0093,
                    0.0093,
                    0.0084,
                    0.0056,
                    -0.0009,
                    -0.0001,
                    -0.007,
                    0.0055,
                    0.0023,
                    0.0032,
                    0.0045,
                    0.0083,
                    -0.0021,
                    0.0038,
                    0.0026,
                    0.0033,
                    0.0046,
                    0.0019,
                    0.008,
                    0.002,
                    -0.0084,
                    0.01,
                    0.006,
                    -0.0039,
                    -0.0008,
                    0.0009,
                    0.0081,
                    0.0071,
                    -0.0004,
                    0.0016,
                    0.0023,
                    0.0081,
                    0.0072,
                    -0.0055,
                    0.0023,
                    -0.0043,
                    -0.0032,
                    0.0032,
                    0,
                    0.0116,
                    0.0154
                  ],
                  "xaxis": "x",
                  "y": [
                    1,
                    2,
                    3,
                    4,
                    5,
                    6,
                    7,
                    8,
                    9,
                    10,
                    11,
                    12,
                    13,
                    14,
                    15,
                    16,
                    17,
                    18,
                    19,
                    20,
                    21,
                    22,
                    23,
                    24,
                    25,
                    26,
                    27,
                    28,
                    29,
                    30,
                    31,
                    32,
                    33,
                    34,
                    35,
                    36,
                    37,
                    38,
                    39,
                    40,
                    41,
                    42,
                    43,
                    44,
                    45,
                    46,
                    47,
                    48,
                    49,
                    50,
                    51,
                    52,
                    53,
                    54,
                    55,
                    56,
                    57,
                    58,
                    59,
                    60,
                    61,
                    62,
                    63,
                    64,
                    65,
                    66,
                    67,
                    68,
                    69,
                    70,
                    71,
                    72,
                    73,
                    74,
                    75,
                    76,
                    77,
                    78,
                    79,
                    80,
                    81,
                    82,
                    83,
                    84,
                    85,
                    86,
                    87,
                    88,
                    89,
                    90,
                    91,
                    92,
                    93,
                    94,
                    95,
                    96,
                    97,
                    98,
                    99,
                    100,
                    101,
                    102,
                    103,
                    104,
                    105,
                    106,
                    107,
                    108,
                    109,
                    110,
                    111,
                    112,
                    113,
                    114,
                    115,
                    116,
                    117,
                    118,
                    119,
                    120,
                    121,
                    122,
                    123,
                    124,
                    125,
                    126,
                    127,
                    128,
                    129,
                    130,
                    131,
                    132,
                    133,
                    134,
                    135,
                    136,
                    137,
                    138,
                    139,
                    140,
                    141,
                    142,
                    143,
                    144,
                    145,
                    146,
                    147,
                    148,
                    149,
                    150,
                    151,
                    152,
                    153,
                    154,
                    155,
                    156,
                    157,
                    158,
                    159,
                    160,
                    161,
                    162,
                    163,
                    164,
                    165,
                    166,
                    167,
                    168,
                    169,
                    170,
                    171,
                    172,
                    173,
                    174,
                    175,
                    176,
                    177,
                    178,
                    179,
                    180,
                    181,
                    182,
                    183,
                    184,
                    185,
                    186,
                    187,
                    188,
                    189,
                    190,
                    191,
                    192,
                    193,
                    194,
                    195,
                    196,
                    197,
                    198,
                    199,
                    200,
                    201,
                    202,
                    203,
                    204,
                    205,
                    206,
                    207,
                    208,
                    209,
                    210,
                    211,
                    212,
                    213,
                    214,
                    215,
                    216,
                    217,
                    218,
                    219,
                    220,
                    221,
                    222,
                    223,
                    224,
                    225,
                    226,
                    227,
                    228,
                    229,
                    230,
                    231,
                    232,
                    233,
                    234
                  ],
                  "yaxis": "y"
                }
              ],
              "layout": {
                "coloraxis": {
                  "colorbar": {
                    "title": {
                      "text": "Density (/km2)"
                    }
                  },
                  "colorscale": [
                    [
                      0,
                      "#0d0887"
                    ],
                    [
                      0.1111111111111111,
                      "#46039f"
                    ],
                    [
                      0.2222222222222222,
                      "#7201a8"
                    ],
                    [
                      0.3333333333333333,
                      "#9c179e"
                    ],
                    [
                      0.4444444444444444,
                      "#bd3786"
                    ],
                    [
                      0.5555555555555556,
                      "#d8576b"
                    ],
                    [
                      0.6666666666666666,
                      "#ed7953"
                    ],
                    [
                      0.7777777777777778,
                      "#fb9f3a"
                    ],
                    [
                      0.8888888888888888,
                      "#fdca26"
                    ],
                    [
                      1,
                      "#f0f921"
                    ]
                  ]
                },
                "legend": {
                  "tracegroupgap": 0
                },
                "template": {
                  "data": {
                    "bar": [
                      {
                        "error_x": {
                          "color": "#f2f5fa"
                        },
                        "error_y": {
                          "color": "#f2f5fa"
                        },
                        "marker": {
                          "line": {
                            "color": "rgb(17,17,17)",
                            "width": 0.5
                          },
                          "pattern": {
                            "fillmode": "overlay",
                            "size": 10,
                            "solidity": 0.2
                          }
                        },
                        "type": "bar"
                      }
                    ],
                    "barpolar": [
                      {
                        "marker": {
                          "line": {
                            "color": "rgb(17,17,17)",
                            "width": 0.5
                          },
                          "pattern": {
                            "fillmode": "overlay",
                            "size": 10,
                            "solidity": 0.2
                          }
                        },
                        "type": "barpolar"
                      }
                    ],
                    "carpet": [
                      {
                        "aaxis": {
                          "endlinecolor": "#A2B1C6",
                          "gridcolor": "#506784",
                          "linecolor": "#506784",
                          "minorgridcolor": "#506784",
                          "startlinecolor": "#A2B1C6"
                        },
                        "baxis": {
                          "endlinecolor": "#A2B1C6",
                          "gridcolor": "#506784",
                          "linecolor": "#506784",
                          "minorgridcolor": "#506784",
                          "startlinecolor": "#A2B1C6"
                        },
                        "type": "carpet"
                      }
                    ],
                    "choropleth": [
                      {
                        "colorbar": {
                          "outlinewidth": 0,
                          "ticks": ""
                        },
                        "type": "choropleth"
                      }
                    ],
                    "contour": [
                      {
                        "colorbar": {
                          "outlinewidth": 0,
                          "ticks": ""
                        },
                        "colorscale": [
                          [
                            0,
                            "#0d0887"
                          ],
                          [
                            0.1111111111111111,
                            "#46039f"
                          ],
                          [
                            0.2222222222222222,
                            "#7201a8"
                          ],
                          [
                            0.3333333333333333,
                            "#9c179e"
                          ],
                          [
                            0.4444444444444444,
                            "#bd3786"
                          ],
                          [
                            0.5555555555555556,
                            "#d8576b"
                          ],
                          [
                            0.6666666666666666,
                            "#ed7953"
                          ],
                          [
                            0.7777777777777778,
                            "#fb9f3a"
                          ],
                          [
                            0.8888888888888888,
                            "#fdca26"
                          ],
                          [
                            1,
                            "#f0f921"
                          ]
                        ],
                        "type": "contour"
                      }
                    ],
                    "contourcarpet": [
                      {
                        "colorbar": {
                          "outlinewidth": 0,
                          "ticks": ""
                        },
                        "type": "contourcarpet"
                      }
                    ],
                    "heatmap": [
                      {
                        "colorbar": {
                          "outlinewidth": 0,
                          "ticks": ""
                        },
                        "colorscale": [
                          [
                            0,
                            "#0d0887"
                          ],
                          [
                            0.1111111111111111,
                            "#46039f"
                          ],
                          [
                            0.2222222222222222,
                            "#7201a8"
                          ],
                          [
                            0.3333333333333333,
                            "#9c179e"
                          ],
                          [
                            0.4444444444444444,
                            "#bd3786"
                          ],
                          [
                            0.5555555555555556,
                            "#d8576b"
                          ],
                          [
                            0.6666666666666666,
                            "#ed7953"
                          ],
                          [
                            0.7777777777777778,
                            "#fb9f3a"
                          ],
                          [
                            0.8888888888888888,
                            "#fdca26"
                          ],
                          [
                            1,
                            "#f0f921"
                          ]
                        ],
                        "type": "heatmap"
                      }
                    ],
                    "heatmapgl": [
                      {
                        "colorbar": {
                          "outlinewidth": 0,
                          "ticks": ""
                        },
                        "colorscale": [
                          [
                            0,
                            "#0d0887"
                          ],
                          [
                            0.1111111111111111,
                            "#46039f"
                          ],
                          [
                            0.2222222222222222,
                            "#7201a8"
                          ],
                          [
                            0.3333333333333333,
                            "#9c179e"
                          ],
                          [
                            0.4444444444444444,
                            "#bd3786"
                          ],
                          [
                            0.5555555555555556,
                            "#d8576b"
                          ],
                          [
                            0.6666666666666666,
                            "#ed7953"
                          ],
                          [
                            0.7777777777777778,
                            "#fb9f3a"
                          ],
                          [
                            0.8888888888888888,
                            "#fdca26"
                          ],
                          [
                            1,
                            "#f0f921"
                          ]
                        ],
                        "type": "heatmapgl"
                      }
                    ],
                    "histogram": [
                      {
                        "marker": {
                          "pattern": {
                            "fillmode": "overlay",
                            "size": 10,
                            "solidity": 0.2
                          }
                        },
                        "type": "histogram"
                      }
                    ],
                    "histogram2d": [
                      {
                        "colorbar": {
                          "outlinewidth": 0,
                          "ticks": ""
                        },
                        "colorscale": [
                          [
                            0,
                            "#0d0887"
                          ],
                          [
                            0.1111111111111111,
                            "#46039f"
                          ],
                          [
                            0.2222222222222222,
                            "#7201a8"
                          ],
                          [
                            0.3333333333333333,
                            "#9c179e"
                          ],
                          [
                            0.4444444444444444,
                            "#bd3786"
                          ],
                          [
                            0.5555555555555556,
                            "#d8576b"
                          ],
                          [
                            0.6666666666666666,
                            "#ed7953"
                          ],
                          [
                            0.7777777777777778,
                            "#fb9f3a"
                          ],
                          [
                            0.8888888888888888,
                            "#fdca26"
                          ],
                          [
                            1,
                            "#f0f921"
                          ]
                        ],
                        "type": "histogram2d"
                      }
                    ],
                    "histogram2dcontour": [
                      {
                        "colorbar": {
                          "outlinewidth": 0,
                          "ticks": ""
                        },
                        "colorscale": [
                          [
                            0,
                            "#0d0887"
                          ],
                          [
                            0.1111111111111111,
                            "#46039f"
                          ],
                          [
                            0.2222222222222222,
                            "#7201a8"
                          ],
                          [
                            0.3333333333333333,
                            "#9c179e"
                          ],
                          [
                            0.4444444444444444,
                            "#bd3786"
                          ],
                          [
                            0.5555555555555556,
                            "#d8576b"
                          ],
                          [
                            0.6666666666666666,
                            "#ed7953"
                          ],
                          [
                            0.7777777777777778,
                            "#fb9f3a"
                          ],
                          [
                            0.8888888888888888,
                            "#fdca26"
                          ],
                          [
                            1,
                            "#f0f921"
                          ]
                        ],
                        "type": "histogram2dcontour"
                      }
                    ],
                    "mesh3d": [
                      {
                        "colorbar": {
                          "outlinewidth": 0,
                          "ticks": ""
                        },
                        "type": "mesh3d"
                      }
                    ],
                    "parcoords": [
                      {
                        "line": {
                          "colorbar": {
                            "outlinewidth": 0,
                            "ticks": ""
                          }
                        },
                        "type": "parcoords"
                      }
                    ],
                    "pie": [
                      {
                        "automargin": true,
                        "type": "pie"
                      }
                    ],
                    "scatter": [
                      {
                        "marker": {
                          "line": {
                            "color": "#283442"
                          }
                        },
                        "type": "scatter"
                      }
                    ],
                    "scatter3d": [
                      {
                        "line": {
                          "colorbar": {
                            "outlinewidth": 0,
                            "ticks": ""
                          }
                        },
                        "marker": {
                          "colorbar": {
                            "outlinewidth": 0,
                            "ticks": ""
                          }
                        },
                        "type": "scatter3d"
                      }
                    ],
                    "scattercarpet": [
                      {
                        "marker": {
                          "colorbar": {
                            "outlinewidth": 0,
                            "ticks": ""
                          }
                        },
                        "type": "scattercarpet"
                      }
                    ],
                    "scattergeo": [
                      {
                        "marker": {
                          "colorbar": {
                            "outlinewidth": 0,
                            "ticks": ""
                          }
                        },
                        "type": "scattergeo"
                      }
                    ],
                    "scattergl": [
                      {
                        "marker": {
                          "line": {
                            "color": "#283442"
                          }
                        },
                        "type": "scattergl"
                      }
                    ],
                    "scattermapbox": [
                      {
                        "marker": {
                          "colorbar": {
                            "outlinewidth": 0,
                            "ticks": ""
                          }
                        },
                        "type": "scattermapbox"
                      }
                    ],
                    "scatterpolar": [
                      {
                        "marker": {
                          "colorbar": {
                            "outlinewidth": 0,
                            "ticks": ""
                          }
                        },
                        "type": "scatterpolar"
                      }
                    ],
                    "scatterpolargl": [
                      {
                        "marker": {
                          "colorbar": {
                            "outlinewidth": 0,
                            "ticks": ""
                          }
                        },
                        "type": "scatterpolargl"
                      }
                    ],
                    "scatterternary": [
                      {
                        "marker": {
                          "colorbar": {
                            "outlinewidth": 0,
                            "ticks": ""
                          }
                        },
                        "type": "scatterternary"
                      }
                    ],
                    "surface": [
                      {
                        "colorbar": {
                          "outlinewidth": 0,
                          "ticks": ""
                        },
                        "colorscale": [
                          [
                            0,
                            "#0d0887"
                          ],
                          [
                            0.1111111111111111,
                            "#46039f"
                          ],
                          [
                            0.2222222222222222,
                            "#7201a8"
                          ],
                          [
                            0.3333333333333333,
                            "#9c179e"
                          ],
                          [
                            0.4444444444444444,
                            "#bd3786"
                          ],
                          [
                            0.5555555555555556,
                            "#d8576b"
                          ],
                          [
                            0.6666666666666666,
                            "#ed7953"
                          ],
                          [
                            0.7777777777777778,
                            "#fb9f3a"
                          ],
                          [
                            0.8888888888888888,
                            "#fdca26"
                          ],
                          [
                            1,
                            "#f0f921"
                          ]
                        ],
                        "type": "surface"
                      }
                    ],
                    "table": [
                      {
                        "cells": {
                          "fill": {
                            "color": "#506784"
                          },
                          "line": {
                            "color": "rgb(17,17,17)"
                          }
                        },
                        "header": {
                          "fill": {
                            "color": "#2a3f5f"
                          },
                          "line": {
                            "color": "rgb(17,17,17)"
                          }
                        },
                        "type": "table"
                      }
                    ]
                  },
                  "layout": {
                    "annotationdefaults": {
                      "arrowcolor": "#f2f5fa",
                      "arrowhead": 0,
                      "arrowwidth": 1
                    },
                    "autotypenumbers": "strict",
                    "coloraxis": {
                      "colorbar": {
                        "outlinewidth": 0,
                        "ticks": ""
                      }
                    },
                    "colorscale": {
                      "diverging": [
                        [
                          0,
                          "#8e0152"
                        ],
                        [
                          0.1,
                          "#c51b7d"
                        ],
                        [
                          0.2,
                          "#de77ae"
                        ],
                        [
                          0.3,
                          "#f1b6da"
                        ],
                        [
                          0.4,
                          "#fde0ef"
                        ],
                        [
                          0.5,
                          "#f7f7f7"
                        ],
                        [
                          0.6,
                          "#e6f5d0"
                        ],
                        [
                          0.7,
                          "#b8e186"
                        ],
                        [
                          0.8,
                          "#7fbc41"
                        ],
                        [
                          0.9,
                          "#4d9221"
                        ],
                        [
                          1,
                          "#276419"
                        ]
                      ],
                      "sequential": [
                        [
                          0,
                          "#0d0887"
                        ],
                        [
                          0.1111111111111111,
                          "#46039f"
                        ],
                        [
                          0.2222222222222222,
                          "#7201a8"
                        ],
                        [
                          0.3333333333333333,
                          "#9c179e"
                        ],
                        [
                          0.4444444444444444,
                          "#bd3786"
                        ],
                        [
                          0.5555555555555556,
                          "#d8576b"
                        ],
                        [
                          0.6666666666666666,
                          "#ed7953"
                        ],
                        [
                          0.7777777777777778,
                          "#fb9f3a"
                        ],
                        [
                          0.8888888888888888,
                          "#fdca26"
                        ],
                        [
                          1,
                          "#f0f921"
                        ]
                      ],
                      "sequentialminus": [
                        [
                          0,
                          "#0d0887"
                        ],
                        [
                          0.1111111111111111,
                          "#46039f"
                        ],
                        [
                          0.2222222222222222,
                          "#7201a8"
                        ],
                        [
                          0.3333333333333333,
                          "#9c179e"
                        ],
                        [
                          0.4444444444444444,
                          "#bd3786"
                        ],
                        [
                          0.5555555555555556,
                          "#d8576b"
                        ],
                        [
                          0.6666666666666666,
                          "#ed7953"
                        ],
                        [
                          0.7777777777777778,
                          "#fb9f3a"
                        ],
                        [
                          0.8888888888888888,
                          "#fdca26"
                        ],
                        [
                          1,
                          "#f0f921"
                        ]
                      ]
                    },
                    "colorway": [
                      "#636efa",
                      "#EF553B",
                      "#00cc96",
                      "#ab63fa",
                      "#FFA15A",
                      "#19d3f3",
                      "#FF6692",
                      "#B6E880",
                      "#FF97FF",
                      "#FECB52"
                    ],
                    "font": {
                      "color": "#f2f5fa"
                    },
                    "geo": {
                      "bgcolor": "rgb(17,17,17)",
                      "lakecolor": "rgb(17,17,17)",
                      "landcolor": "rgb(17,17,17)",
                      "showlakes": true,
                      "showland": true,
                      "subunitcolor": "#506784"
                    },
                    "hoverlabel": {
                      "align": "left"
                    },
                    "hovermode": "closest",
                    "mapbox": {
                      "style": "dark"
                    },
                    "paper_bgcolor": "rgb(17,17,17)",
                    "plot_bgcolor": "rgb(17,17,17)",
                    "polar": {
                      "angularaxis": {
                        "gridcolor": "#506784",
                        "linecolor": "#506784",
                        "ticks": ""
                      },
                      "bgcolor": "rgb(17,17,17)",
                      "radialaxis": {
                        "gridcolor": "#506784",
                        "linecolor": "#506784",
                        "ticks": ""
                      }
                    },
                    "scene": {
                      "xaxis": {
                        "backgroundcolor": "rgb(17,17,17)",
                        "gridcolor": "#506784",
                        "gridwidth": 2,
                        "linecolor": "#506784",
                        "showbackground": true,
                        "ticks": "",
                        "zerolinecolor": "#C8D4E3"
                      },
                      "yaxis": {
                        "backgroundcolor": "rgb(17,17,17)",
                        "gridcolor": "#506784",
                        "gridwidth": 2,
                        "linecolor": "#506784",
                        "showbackground": true,
                        "ticks": "",
                        "zerolinecolor": "#C8D4E3"
                      },
                      "zaxis": {
                        "backgroundcolor": "rgb(17,17,17)",
                        "gridcolor": "#506784",
                        "gridwidth": 2,
                        "linecolor": "#506784",
                        "showbackground": true,
                        "ticks": "",
                        "zerolinecolor": "#C8D4E3"
                      }
                    },
                    "shapedefaults": {
                      "line": {
                        "color": "#f2f5fa"
                      }
                    },
                    "sliderdefaults": {
                      "bgcolor": "#C8D4E3",
                      "bordercolor": "rgb(17,17,17)",
                      "borderwidth": 1,
                      "tickwidth": 0
                    },
                    "ternary": {
                      "aaxis": {
                        "gridcolor": "#506784",
                        "linecolor": "#506784",
                        "ticks": ""
                      },
                      "baxis": {
                        "gridcolor": "#506784",
                        "linecolor": "#506784",
                        "ticks": ""
                      },
                      "bgcolor": "rgb(17,17,17)",
                      "caxis": {
                        "gridcolor": "#506784",
                        "linecolor": "#506784",
                        "ticks": ""
                      }
                    },
                    "title": {
                      "x": 0.05
                    },
                    "updatemenudefaults": {
                      "bgcolor": "#506784",
                      "borderwidth": 0
                    },
                    "xaxis": {
                      "automargin": true,
                      "gridcolor": "#283442",
                      "linecolor": "#506784",
                      "ticks": "",
                      "title": {
                        "standoff": 15
                      },
                      "zerolinecolor": "#283442",
                      "zerolinewidth": 2
                    },
                    "yaxis": {
                      "automargin": true,
                      "gridcolor": "#283442",
                      "linecolor": "#506784",
                      "ticks": "",
                      "title": {
                        "standoff": 15
                      },
                      "zerolinecolor": "#283442",
                      "zerolinewidth": 2
                    }
                  }
                },
                "title": {
                  "text": "Growth Rate vs World Rank"
                },
                "xaxis": {
                  "anchor": "y",
                  "domain": [
                    0,
                    1
                  ],
                  "title": {
                    "text": "Growth Rate"
                  }
                },
                "yaxis": {
                  "anchor": "x",
                  "domain": [
                    0,
                    1
                  ],
                  "title": {
                    "text": "World Rank"
                  }
                }
              }
            }
          },
          "metadata": {},
          "output_type": "display_data"
        }
      ],
      "source": [
        "#scatter plot for growth rate vs world rank\n",
        "fig = px.scatter(df, x = \"Growth Rate\", y = \"World Rank\",\n",
        "                 title = \"Growth Rate vs World Rank\",\n",
        "                 color = \"Density (/km2)\",\n",
        "                 hover_name = \"Country\",\n",
        "                 hover_data = ['Population 2024', 'Population 2023', 'Area (km2)', 'Density (/km2)', 'World %'],\n",
        "                 template = \"plotly_dark\")\n",
        "fig.show()"
      ]
    },
    {
      "cell_type": "code",
      "execution_count": 10,
      "metadata": {
        "colab": {
          "base_uri": "https://localhost:8080/",
          "height": 564
        },
        "id": "BwsZBakp1vU6",
        "outputId": "eed92e8c-9308-48bc-ddc6-43c21f02d629"
      },
      "outputs": [
        {
          "name": "stderr",
          "output_type": "stream",
          "text": [
            "c:\\Users\\hp\\anaconda3\\Lib\\site-packages\\seaborn\\_oldcore.py:1119: FutureWarning:\n",
            "\n",
            "use_inf_as_na option is deprecated and will be removed in a future version. Convert inf values to NaN before operating instead.\n",
            "\n"
          ]
        },
        {
          "data": {
            "image/png": "[encoded data removed]",
            "text/plain": [
              "<Figure size 1000x600 with 1 Axes>"
            ]
          },
          "metadata": {},
          "output_type": "display_data"
        }
      ],
      "source": [
        "#distribution of population\n",
        "plt.figure(figsize=(10, 6))\n",
        "sns.histplot(df['Population 2024'],bins = 35, kde=True)\n",
        "plt.title('Distribution of Population in 2024')\n",
        "plt.xlabel('Population 2024')\n",
        "plt.ylabel('Frequency')\n",
        "plt.show()"
      ]
    },
    {
      "cell_type": "code",
      "execution_count": 11,
      "metadata": {
        "colab": {
          "base_uri": "https://localhost:8080/",
          "height": 814
        },
        "id": "xSsNEV2b4Uhq",
        "outputId": "c0f6ef75-4d51-4224-b0d5-3a6afff6841c"
      },
      "outputs": [
        {
          "data": {
            "image/png": "[encoded data removed]",
            "text/plain": [
              "<Figure size 1200x800 with 2 Axes>"
            ]
          },
          "metadata": {},
          "output_type": "display_data"
        }
      ],
      "source": [
        "# Plot the correlation heatmap\n",
        "numericvalues = df.select_dtypes(include=[np.number])\n",
        "plt.figure(figsize=(12, 8))\n",
        "sns.heatmap(numericvalues.corr(), annot=True, fmt='.2f')\n",
        "plt.title('Correlation Heatmap')\n",
        "plt.show()"
      ]
    },
    {
      "cell_type": "markdown",
      "metadata": {
        "id": "U9eH-RnW5xKG"
      },
      "source": [
        "#Predictions"
      ]
    },
    {
      "cell_type": "code",
      "execution_count": 12,
      "metadata": {
        "colab": {
          "base_uri": "https://localhost:8080/"
        },
        "id": "-8O-mlEzGefb",
        "outputId": "c55566d3-989a-428d-d8bd-bc4d8bc608ea"
      },
      "outputs": [
        {
          "name": "stdout",
          "output_type": "stream",
          "text": [
            "<class 'pandas.core.frame.DataFrame'>\n",
            "RangeIndex: 234 entries, 0 to 233\n",
            "Data columns (total 9 columns):\n",
            " #   Column             Non-Null Count  Dtype  \n",
            "---  ------             --------------  -----  \n",
            " 0   Country            234 non-null    object \n",
            " 1   Population 2024    234 non-null    int64  \n",
            " 2   Population 2023    234 non-null    int64  \n",
            " 3   Area (km2)         234 non-null    float64\n",
            " 4   Density (/km2)     234 non-null    float64\n",
            " 5   Growth Rate        234 non-null    float64\n",
            " 6   World %            234 non-null    float64\n",
            " 7   World Rank         234 non-null    int64  \n",
            " 8   population change  234 non-null    int64  \n",
            "dtypes: float64(4), int64(4), object(1)\n",
            "memory usage: 16.6+ KB\n"
          ]
        }
      ],
      "source": [
        "df.info()\n"
      ]
    },
    {
      "cell_type": "code",
      "execution_count": 13,
      "metadata": {
        "id": "XAoQE7T8Hpo_"
      },
      "outputs": [],
      "source": [
        "#train test split\n",
        "x = df[['Population 2023','Area (km2)', 'Density (/km2)', 'Growth Rate', 'population change']]\n",
        "y = df['Population 2024']\n",
        "from sklearn.model_selection import train_test_split as tts\n",
        "x_train, x_test,y_train, y_test = tts(x,y,test_size = 0.2, random_state = 42)\n",
        "#standardizing the features\n",
        "from sklearn.preprocessing import StandardScaler\n",
        "scaler = StandardScaler()\n",
        "x_trainscaled = scaler.fit_transform(x_train)\n",
        "x_test_scaled = scaler.transform(x_test)"
      ]
    },
    {
      "cell_type": "code",
      "execution_count": 14,
      "metadata": {
        "id": "kYuoJ6QSILEY"
      },
      "outputs": [],
      "source": [
        "from sklearn.linear_model import LinearRegression\n",
        "from sklearn.tree import DecisionTreeRegressor\n",
        "from sklearn.ensemble import RandomForestRegressor\n",
        "from sklearn.svm import SVR\n",
        "from sklearn.metrics import mean_squared_error, mean_absolute_error, r2_score"
      ]
    },
    {
      "cell_type": "code",
      "execution_count": 15,
      "metadata": {
        "colab": {
          "base_uri": "https://localhost:8080/"
        },
        "id": "8xzUIY_MLC9Q",
        "outputId": "8237a0b5-d501-4664-9432-ebd8f7214ceb"
      },
      "outputs": [
        {
          "name": "stdout",
          "output_type": "stream",
          "text": [
            "------------------------------------------\n",
            "linear regression: \n",
            "Mean Squared Error :  1.4429946599316862e-15\n",
            "Mean Absolute Error :  3.146681379764638e-08\n",
            "r2 Score :  1.0\n",
            "------------------------------------------\n",
            "------------------------------------------\n",
            "decision tree: \n",
            "Mean Squared Error :  30251304845364.19\n",
            "Mean Absolute Error :  1815536.4042553192\n",
            "r2 Score :  0.9745628822426613\n",
            "------------------------------------------\n",
            "------------------------------------------\n",
            "SVR: \n",
            "Mean Squared Error :  1414194431917338.5\n",
            "Mean Absolute Error :  20295944.8614241\n",
            "r2 Score :  -0.1891397901788927\n",
            "------------------------------------------\n",
            "------------------------------------------\n",
            "random forest: \n",
            "Mean Squared Error :  4017364672440.2817\n",
            "Mean Absolute Error :  804067.8634042556\n",
            "r2 Score :  0.9966219580024928\n",
            "------------------------------------------\n"
          ]
        }
      ],
      "source": [
        "#linear regression\n",
        "model1 = LinearRegression()\n",
        "model1.fit(x_trainscaled, y_train)\n",
        "y_pred1 = model1.predict(x_test_scaled)\n",
        "print(\"------------------------------------------\")\n",
        "print(\"linear regression: \")\n",
        "print(\"Mean Squared Error : \", mean_squared_error(y_test, y_pred1))\n",
        "print(\"Mean Absolute Error : \", mean_absolute_error(y_test, y_pred1))\n",
        "print(\"r2 Score : \", r2_score(y_test, y_pred1))\n",
        "print(\"------------------------------------------\")\n",
        "#decision tree\n",
        "model2 = DecisionTreeRegressor()\n",
        "model2.fit(x_trainscaled, y_train)\n",
        "y_pred2 = model2.predict(x_test_scaled)\n",
        "print(\"------------------------------------------\")\n",
        "print(\"decision tree: \")\n",
        "print(\"Mean Squared Error : \", mean_squared_error(y_test, y_pred2))\n",
        "print(\"Mean Absolute Error : \", mean_absolute_error(y_test, y_pred2))\n",
        "print(\"r2 Score : \", r2_score(y_test, y_pred2))\n",
        "print(\"------------------------------------------\")\n",
        "#SVR\n",
        "model3 = SVR()\n",
        "model3.fit(x_trainscaled, y_train)\n",
        "y_pred3 = model3.predict(x_test_scaled)\n",
        "print(\"------------------------------------------\")\n",
        "print(\"SVR: \")\n",
        "print(\"Mean Squared Error : \", mean_squared_error(y_test, y_pred3))\n",
        "print(\"Mean Absolute Error : \", mean_absolute_error(y_test, y_pred3))\n",
        "print(\"r2 Score : \", r2_score(y_test, y_pred3))\n",
        "print(\"------------------------------------------\")\n",
        "#ranndom forest\n",
        "model4 = RandomForestRegressor()\n",
        "model4.fit(x_trainscaled, y_train)\n",
        "y_pred4 = model4.predict(x_test_scaled)\n",
        "print(\"------------------------------------------\")\n",
        "print(\"random forest: \")\n",
        "print(\"Mean Squared Error : \", mean_squared_error(y_test, y_pred4))\n",
        "print(\"Mean Absolute Error : \", mean_absolute_error(y_test, y_pred4))\n",
        "print(\"r2 Score : \", r2_score(y_test, y_pred4))\n",
        "print(\"------------------------------------------\")"
      ]
    },
    {
      "cell_type": "markdown",
      "metadata": {
        "id": "MaCjSot6csnd"
      },
      "source": [
        "##end\n"
      ]
    }
  ],
  "metadata": {
    "colab": {
      "provenance": []
    },
    "kernelspec": {
      "display_name": "Python 3",
      "name": "python3"
    },
    "language_info": {
      "codemirror_mode": {
        "name": "ipython",
        "version": 3
      },
      "file_extension": ".py",
      "mimetype": "text/x-python",
      "name": "python",
      "nbconvert_exporter": "python",
      "pygments_lexer": "ipython3",
      "version": "3.11.7"
    }
  },
  "nbformat": 4,
  "nbformat_minor": 0
}
